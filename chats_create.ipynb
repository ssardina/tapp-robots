{
 "cells": [
  {
   "cell_type": "markdown",
   "metadata": {},
   "source": [
    "# Bulk Create of Chats in TeamApp\n",
    "\n",
    "# THIS NOTEBOOK IS A DRAFT\n",
    "\n",
    "Create a set of chat rooms, one for each team. Associate each chat room with the access group of the team, e.g., _U14 Girls Purple_."
   ]
  },
  {
   "cell_type": "code",
   "execution_count": 1,
   "metadata": {},
   "outputs": [],
   "source": [
    "import re\n",
    "\n",
    "# Download geckodriver (https://github.com/mozilla/geckodriver/releases) and put it in path\n",
    "# Salenium webdriver: https://www.selenium.dev/documentation/overview/\n",
    "from selenium import webdriver\n",
    "from selenium.webdriver.firefox.options import Options\n",
    "from selenium.webdriver.firefox.service import Service\n",
    "from selenium.webdriver.common.by import By\n",
    "\n",
    "from selenium.webdriver.support.select import Select\n",
    "from selenium.webdriver.common.keys import Keys\n",
    "\n",
    "import time"
   ]
  },
  {
   "cell_type": "markdown",
   "metadata": {},
   "source": [
    "## Create Virtual Browser\n",
    "\n",
    "Create a firefox instance using an existing profile that MUST be logged into TeamApp.\n",
    "\n",
    "Set the following variables and in particular `FIREFOX_PROFILE_PATH` to the existing Firefox profile that is already logged into the club's TeamApp."
   ]
  },
  {
   "cell_type": "markdown",
   "metadata": {},
   "source": [
    "# URL of the club's TeamApp\n",
    "URL_TEAMAPP = \"https://brunswickmagicbasketball.teamapp.com\"\n",
    "\n",
    "# Folder with the firefox profile to be used\n",
    "FIREFOX_PROFILE_PATH = '/home/ssardina/.mozilla/firefox/88weweww.ssardina'\n",
    "\n",
    "GECKODRIVER_PATH = '/home/ssardina/bin/geckodriver'"
   ]
  },
  {
   "cell_type": "code",
   "execution_count": 2,
   "metadata": {},
   "outputs": [],
   "source": [
    "URL_CHATS = f\"{URL_TEAMAPP}/rooms?_list=v1\"\n",
    "\n",
    "# firefox profile of user already logged in teamapp\n",
    "\n",
    "options = Options()\n",
    "# options.headless = True\n",
    "options.page_load_strategy = 'eager'\n",
    "options.set_preference('profile', FIREFOX_PROFILE_PATH)\n",
    "\n",
    "# https://github.com/SeleniumHQ/selenium/issues/11028\n",
    "# use an existing firefox profile (must be logged in teamapps already!)\n",
    "options.add_argument(\"-profile\")\n",
    "options.add_argument(FIREFOX_PROFILE_PATH)\n",
    "\n",
    "service = None\n",
    "# service = Service(GECKODRIVER_PATH)\n",
    "\n",
    "if service is not None:\n",
    "    browser = webdriver.Firefox(service=service, options=options)\n",
    "else:\n",
    "    browser = webdriver.Firefox(options=options)\n",
    "# browser.maximize_window()\n",
    "\n",
    "browser.get(URL_CHATS)\n",
    "\n",
    "# browser.quit()\n"
   ]
  },
  {
   "cell_type": "markdown",
   "metadata": {},
   "source": [
    "In case you want to close it:"
   ]
  },
  {
   "cell_type": "code",
   "execution_count": null,
   "metadata": {},
   "outputs": [],
   "source": [
    "browser.quit()"
   ]
  },
  {
   "cell_type": "markdown",
   "metadata": {},
   "source": [
    "# Test delete one chat"
   ]
  },
  {
   "cell_type": "markdown",
   "metadata": {},
   "source": [
    "Get the **Advance Option** three dot button at the top-right. The `XPATH` was found by inspecting the DOM. \n",
    "\n",
    "This will give an object of [selenium.webdriver.remote.webelement.WebElement](https://www.selenium.dev/selenium/docs/api/py/webdriver_remote/selenium.webdriver.remote.webelement.html).\n",
    "\n",
    "For this button, we search via its fixed `XPATH`: https://selenium-python.readthedocs.io/locating-elements.html\n"
   ]
  },
  {
   "cell_type": "markdown",
   "metadata": {},
   "source": [
    "### 1. Click Add Chat + button\n",
    "\n"
   ]
  },
  {
   "cell_type": "code",
   "execution_count": 5,
   "metadata": {},
   "outputs": [],
   "source": [
    "button = browser.find_elements(By.CLASS_NAME, \"v-btn__content\")[30]"
   ]
  },
  {
   "cell_type": "code",
   "execution_count": 6,
   "metadata": {},
   "outputs": [],
   "source": [
    "button.click()"
   ]
  },
  {
   "cell_type": "code",
   "execution_count": 7,
   "metadata": {},
   "outputs": [],
   "source": [
    "# v-input--selection-controls__ripple primary--text\n",
    "\n",
    "button = browser.find_element(by=By.XPATH, value=\"/html/body/div/div[1]/main/div/div[2]/div/div/div/div/form/div[1]/div/div/div/div/div[3]/div/div\")\n",
    "button.click()"
   ]
  },
  {
   "cell_type": "code",
   "execution_count": 16,
   "metadata": {},
   "outputs": [],
   "source": [
    "\n",
    "select = browser.find_element(By.ID, 'input-218')\n",
    "\n",
    "select.send_keys(\"Coaches\")\n",
    "# select.select_by_visible_text('Coaches')"
   ]
  }
 ],
 "metadata": {
  "kernelspec": {
   "display_name": "Python 3",
   "language": "python",
   "name": "python3"
  },
  "language_info": {
   "codemirror_mode": {
    "name": "ipython",
    "version": 3
   },
   "file_extension": ".py",
   "mimetype": "text/x-python",
   "name": "python",
   "nbconvert_exporter": "python",
   "pygments_lexer": "ipython3",
   "version": "3.10.12"
  }
 },
 "nbformat": 4,
 "nbformat_minor": 2
}
