{
 "cells": [
  {
   "cell_type": "markdown",
   "metadata": {},
   "source": [
    "# Edit Training Schedules to Recurr Weekly\n",
    "\n",
    "This robot notebook deletes a set of members from the club's TeamApp. This is used to delete all members that are not part of the new season.\n",
    "\n",
    "Demo of bulk editing for recurring schedules: https://youtu.be/Ur2b5QcnmCo\n",
    "\n",
    "[![https://www.youtube.com/watch?v=Ur2b5QcnmCo](https://img.youtube.com/vi/Ur2b5QcnmCo/0.jpg)](https://www.youtube.com/watch?v=Ur2b5QcnmCo)\n",
    "\n"
   ]
  },
  {
   "cell_type": "code",
   "execution_count": 181,
   "metadata": {},
   "outputs": [],
   "source": [
    "import time\n",
    "\n",
    "# Download geckodriver (https://github.com/mozilla/geckodriver/releases) and put it in path\n",
    "# Salenium webdriver: https://www.selenium.dev/documentation/overview/\n",
    "from selenium import webdriver\n",
    "from selenium.webdriver.firefox.options import Options\n",
    "from selenium.webdriver.firefox.service import Service\n",
    "from selenium.webdriver.common.by import By"
   ]
  },
  {
   "cell_type": "code",
   "execution_count": 131,
   "metadata": {},
   "outputs": [],
   "source": [
    "def report_element(e, i=\"\"):\n",
    "    print(i, e)\n",
    "    print(i, e.text)\n",
    "    print(i, e.get_attribute(\"class\"))\n",
    "    print(i, e.id)\n",
    "    print(i, e.tag_name)\n",
    "\n",
    "def report_elements(browser, search_string):    # get all the three dots edit options\n",
    "    print(search_string)\n",
    "    for i, button in enumerate(browser.find_elements(By.XPATH, search_string)):\n",
    "        report_element(button, i)\n",
    "        print()"
   ]
  },
  {
   "cell_type": "markdown",
   "metadata": {},
   "source": [
    "## Create Virtual Browser\n",
    "\n",
    "Create a firefox instance using an existing profile that MUST be logged into TeamApp.\n",
    "\n",
    "Set the following variables and in particular `FIREFOX_PROFILE_PATH` to the existing Firefox profile that is already logged into the club's TeamApp."
   ]
  },
  {
   "cell_type": "code",
   "execution_count": 2,
   "metadata": {},
   "outputs": [],
   "source": [
    "# URL of the club's TeamApp\n",
    "URL_TEAMAPP = \"https://brunswickmagicbasketball.teamapp.com\"\n",
    "\n",
    "# Folder with the firefox profile to be used\n",
    "FIREFOX_PROFILE_PATH = '/home/ssardina/.mozilla/firefox/88weweww.ssardina'\n",
    "\n",
    "GECKODRIVER_PATH = '/home/ssardina/bin/geckodriver'"
   ]
  },
  {
   "cell_type": "code",
   "execution_count": null,
   "metadata": {},
   "outputs": [],
   "source": [
    "URL_MODULE = f\"{URL_TEAMAPP}/events?_list=v1&team_id=all\"\n",
    "\n",
    "# firefox profile of user already logged in teamapp\n",
    "\n",
    "options = Options()\n",
    "# options.headless = True\n",
    "options.page_load_strategy = 'eager'\n",
    "options.set_preference('profile', FIREFOX_PROFILE_PATH)\n",
    "\n",
    "# https://github.com/SeleniumHQ/selenium/issues/11028\n",
    "# use an existing firefox profile (must be logged in teamapps already!)\n",
    "options.add_argument(\"-profile\")\n",
    "options.add_argument(FIREFOX_PROFILE_PATH)\n",
    "\n",
    "service = None\n",
    "# service = Service(GECKODRIVER_PATH)\n",
    "\n",
    "if service is not None:\n",
    "    browser = webdriver.Firefox(service=service, options=options)\n",
    "else:\n",
    "    browser = webdriver.Firefox(options=options)\n",
    "# browser.maximize_window()\n",
    "\n",
    "browser.get(URL_MODULE)\n",
    "\n",
    "# browser.quit()\n"
   ]
  },
  {
   "cell_type": "markdown",
   "metadata": {},
   "source": [
    "In case you want to close it:"
   ]
  },
  {
   "cell_type": "code",
   "execution_count": null,
   "metadata": {},
   "outputs": [],
   "source": [
    "browser.quit()"
   ]
  },
  {
   "cell_type": "markdown",
   "metadata": {},
   "source": [
    "# Test recurr one schedule\n",
    "\n",
    "We start by retrieving the member card:"
   ]
  },
  {
   "cell_type": "code",
   "execution_count": 161,
   "metadata": {},
   "outputs": [],
   "source": [
    "# get to the All Schedule Entries\n",
    "browser.get(URL_MODULE)"
   ]
  },
  {
   "cell_type": "markdown",
   "metadata": {},
   "source": [
    "### 1. Go to the team schedule"
   ]
  },
  {
   "cell_type": "markdown",
   "metadata": {},
   "source": [
    "#### Option 1: Directly click three dots of the team (PROBLEM!)\n",
    "\n",
    "NOTE: when I do this option, the `Team` field comes empty! :_()"
   ]
  },
  {
   "cell_type": "code",
   "execution_count": 152,
   "metadata": {},
   "outputs": [],
   "source": [
    "# get all the three dots edit options\n",
    "buttons_teams = browser.find_elements(By.XPATH, '//i[contains(@class, \"mdi-dots-vertical\")]')\n",
    "\n",
    "for i, button in enumerate(buttons_teams):\n",
    "    report_element(button, i)\n",
    "    print()"
   ]
  },
  {
   "cell_type": "code",
   "execution_count": 106,
   "metadata": {},
   "outputs": [],
   "source": [
    "TEAM_NO = 1\n",
    "\n",
    "# Open the advanced options for a particular team\n",
    "button = buttons_teams[TEAM_NO]\n",
    "button.click()\n",
    "\n",
    "time.sleep(2)\n",
    "\n",
    "# now click EDIT\n",
    "buttons = browser.find_elements(By.XPATH, \"//*[contains(text(),'Edit') and contains(@class, 'action-list-item-title')]\")\n",
    "buttons[0].click()\n"
   ]
  },
  {
   "cell_type": "markdown",
   "metadata": {},
   "source": [
    "#### Option 2: Select a team, then edit (preferred)"
   ]
  },
  {
   "cell_type": "markdown",
   "metadata": {},
   "source": [
    "First enter into the team schedule:"
   ]
  },
  {
   "cell_type": "code",
   "execution_count": 176,
   "metadata": {},
   "outputs": [
    {
     "name": "stdout",
     "output_type": "stream",
     "text": [
      "Schedule to edit:  U10 Girls Black Training\n"
     ]
    }
   ],
   "source": [
    "# the team number you want to edit\n",
    "TEAM_NO = 1\n",
    "\n",
    "# get the button of all the training schedules in the screen (listed with names \"U08 Mixed Gold Training\")\n",
    "buttons = browser.find_elements(By.XPATH, r\"//*[contains(text(),'Training') and @class='v-list-item__title']\")\n",
    "buttons[1].click()\n",
    "print(\"Schedule to edit:\" , buttons[1].text)"
   ]
  },
  {
   "cell_type": "markdown",
   "metadata": {},
   "source": [
    "Next click the three dot options top right and then EDIT:"
   ]
  },
  {
   "cell_type": "code",
   "execution_count": 164,
   "metadata": {},
   "outputs": [],
   "source": [
    "# click options three dots button (top-right)\n",
    "buttons = browser.find_elements(By.XPATH, '//*[contains(text(), \"more_vert\")]')\n",
    "buttons[0].click()\n",
    "\n",
    "# now EDIT!\n",
    "buttons = browser.find_elements(By.XPATH, \"//*[contains(text(),'Edit') and @class='v-list-item__title']\")\n",
    "# report_elements(browser, \"//*[contains(text(),'Edit')]\")\n",
    "buttons[0].click()"
   ]
  },
  {
   "cell_type": "markdown",
   "metadata": {},
   "source": [
    "### 2. Now edit the open schedule to recurr\n",
    "\n",
    "Now we edit the schedule to recurr."
   ]
  },
  {
   "cell_type": "code",
   "execution_count": 165,
   "metadata": {},
   "outputs": [
    {
     "ename": "IndexError",
     "evalue": "list index out of range",
     "output_type": "error",
     "traceback": [
      "\u001b[0;31m---------------------------------------------------------------------------\u001b[0m",
      "\u001b[0;31mIndexError\u001b[0m                                Traceback (most recent call last)",
      "Input \u001b[0;32mIn [165]\u001b[0m, in \u001b[0;36m<cell line: 3>\u001b[0;34m()\u001b[0m\n\u001b[1;32m      1\u001b[0m \u001b[38;5;66;03m# select Every week in Recurring\u001b[39;00m\n\u001b[1;32m      2\u001b[0m buttons \u001b[38;5;241m=\u001b[39m browser\u001b[38;5;241m.\u001b[39mfind_elements(By\u001b[38;5;241m.\u001b[39mXPATH, \u001b[38;5;124m\"\u001b[39m\u001b[38;5;124m//*[contains(text(),\u001b[39m\u001b[38;5;124m'\u001b[39m\u001b[38;5;124mEvery week\u001b[39m\u001b[38;5;124m'\u001b[39m\u001b[38;5;124m)]\u001b[39m\u001b[38;5;124m\"\u001b[39m)\n\u001b[0;32m----> 3\u001b[0m \u001b[43mbuttons\u001b[49m\u001b[43m[\u001b[49m\u001b[38;5;241;43m0\u001b[39;49m\u001b[43m]\u001b[49m\u001b[38;5;241m.\u001b[39mclick()\n",
      "\u001b[0;31mIndexError\u001b[0m: list index out of range"
     ]
    }
   ],
   "source": [
    "# select Every week in Recurring\n",
    "buttons = browser.find_elements(By.XPATH, \"//*[contains(text(),'Every week')]\")\n",
    "buttons[0].click()"
   ]
  },
  {
   "cell_type": "markdown",
   "metadata": {},
   "source": [
    "Next click to open the `Recurring Ends` date dialog to get the calendar:"
   ]
  },
  {
   "cell_type": "code",
   "execution_count": 157,
   "metadata": {},
   "outputs": [],
   "source": [
    "buttons = browser.find_elements(By.XPATH, \"//*[contains(text(),'Recurring Ends')]\")\n",
    "buttons[0].click()"
   ]
  },
  {
   "cell_type": "markdown",
   "metadata": {},
   "source": [
    "Calendar should come now. We need to navigate to the month and then select the day."
   ]
  },
  {
   "cell_type": "code",
   "execution_count": 159,
   "metadata": {},
   "outputs": [],
   "source": [
    "\n",
    "# one month before\n",
    "buttons = browser.find_elements(By.XPATH, '//i[contains(@class, \"mdi-chevron-left\")]')\n",
    "buttons[0].click()\n",
    "\n",
    "time.sleep(0.5)\n",
    "\n",
    "# select 21\n",
    "buttons = browser.find_elements(By.XPATH, \"//*[text() = '21']\")\n",
    "buttons[0].click()\n",
    "\n",
    "time.sleep(0.5)\n",
    "\n",
    "# select OK\n",
    "buttons = browser.find_elements(By.XPATH, \"//*[contains(text(), 'OK') and contains(@class, 'v-btn__content')]\")\n",
    "buttons[0].click()"
   ]
  },
  {
   "cell_type": "markdown",
   "metadata": {},
   "source": [
    "Finally, click `SAVE` the schedule:"
   ]
  },
  {
   "cell_type": "code",
   "execution_count": 160,
   "metadata": {},
   "outputs": [],
   "source": [
    "buttons = browser.find_elements(By.XPATH, \"//*[contains(text(), 'Save') and contains(@class, 'v-btn__content')]\")\n",
    "buttons[0].click()"
   ]
  },
  {
   "cell_type": "markdown",
   "metadata": {},
   "source": [
    "# Bulk edit schedule to recurr"
   ]
  },
  {
   "cell_type": "markdown",
   "metadata": {},
   "source": []
  },
  {
   "cell_type": "code",
   "execution_count": 180,
   "metadata": {},
   "outputs": [
    {
     "name": "stdout",
     "output_type": "stream",
     "text": [
      "Schedule to edit: U08 Mixed Gold Training\n",
      "\t Team already recurrent! U08 Mixed Gold Training\n",
      "Schedule to edit: U10 Girls Black Training\n",
      "Schedule to edit: U10 Girls Gold Training\n",
      "Schedule to edit: U12 Girls Purple Training\n",
      "Schedule to edit: U10 Boys Purple Training\n"
     ]
    }
   ],
   "source": [
    "# get to the All Schedule Entries\n",
    "browser.get(URL_MODULE)\n",
    "\n",
    "NO_TEAMS = len(browser.find_elements(By.XPATH, r\"//*[contains(text(),'Training') and @class='v-list-item__title']\"))\n",
    "\n",
    "for i in range(5):\n",
    "    browser.get(URL_MODULE)\n",
    "\n",
    "    time.sleep(3)\n",
    "\n",
    "    # get the button of all the training schedules in the screen (listed with names \"U08 Mixed Gold Training\")\n",
    "    buttons = browser.find_elements(By.XPATH, r\"//*[contains(text(),'Training') and @class='v-list-item__title']\")\n",
    "    schedule_title = buttons[i].text\n",
    "    print(\"Schedule to edit:\", schedule_title)\n",
    "    buttons[i].click()\n",
    "\n",
    "    time.sleep(2)\n",
    "\n",
    "    # click options three dots button (top-right)\n",
    "    buttons = browser.find_elements(By.XPATH, '//*[contains(text(), \"more_vert\")]')\n",
    "    buttons[0].click()\n",
    "\n",
    "    # now EDIT schedule!\n",
    "    buttons = browser.find_elements(By.XPATH, \"//*[contains(text(),'Edit') and @class='v-list-item__title']\")\n",
    "    # report_elements(browser, \"//*[contains(text(),'Edit')]\")\n",
    "    buttons[0].click()\n",
    "\n",
    "    time.sleep(2)\n",
    "    # select Every week in Recurring (may fail if already recurrent!)\n",
    "    try:\n",
    "        buttons = browser.find_elements(By.XPATH, \"//*[contains(text(),'Every week')]\")\n",
    "        buttons[0].click()\n",
    "    except IndexError:\n",
    "        print(\"\\t Team already recurrent!\", schedule_title)\n",
    "        continue\n",
    "\n",
    "    # click recurring ends to open calendar\n",
    "    buttons = browser.find_elements(By.XPATH, \"//*[contains(text(),'Recurring Ends')]\")\n",
    "    buttons[0].click()\n",
    "\n",
    "\n",
    "    # one month before to september 2024\n",
    "    buttons = browser.find_elements(By.XPATH, '//i[contains(@class, \"mdi-chevron-left\")]')\n",
    "    buttons[0].click()\n",
    "\n",
    "    time.sleep(0.5)\n",
    "\n",
    "    # select & click day 21\n",
    "    buttons = browser.find_elements(By.XPATH, \"//*[text() = '21']\")\n",
    "    buttons[0].click()\n",
    "\n",
    "    time.sleep(0.5)\n",
    "\n",
    "    # click OK\n",
    "    buttons = browser.find_elements(By.XPATH, \"//*[contains(text(), 'OK') and contains(@class, 'v-btn__content')]\")\n",
    "    buttons[0].click()\n",
    "\n",
    "    # click SAVE\n",
    "    buttons = browser.find_elements(By.XPATH, \"//*[contains(text(), 'Save') and contains(@class, 'v-btn__content')]\")\n",
    "    buttons[0].click()\n",
    "\n",
    "    print(\"\\t Team saved!\", schedule_title)\n",
    "\n",
    "    # wait 3 seconds for next schedule\n",
    "    time.sleep(3)\n"
   ]
  }
 ],
 "metadata": {
  "kernelspec": {
   "display_name": "Python 3",
   "language": "python",
   "name": "python3"
  },
  "language_info": {
   "codemirror_mode": {
    "name": "ipython",
    "version": 3
   },
   "file_extension": ".py",
   "mimetype": "text/x-python",
   "name": "python",
   "nbconvert_exporter": "python",
   "pygments_lexer": "ipython3",
   "version": "3.10.12"
  }
 },
 "nbformat": 4,
 "nbformat_minor": 2
}
