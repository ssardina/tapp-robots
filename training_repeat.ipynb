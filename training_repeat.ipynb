{
 "cells": [
  {
   "cell_type": "markdown",
   "metadata": {},
   "source": [
    "# Edit Training Schedules to Recurr Weekly\n",
    "\n",
    "This robot notebook deletes a set of members from the club's TeamApp. This is used to delete all members that are not part of the new season.\n",
    "\n",
    "Demo of bulk editing for recurring schedules: https://youtu.be/Ur2b5QcnmCo\n",
    "\n",
    "[![https://www.youtube.com/watch?v=Ur2b5QcnmCo](https://img.youtube.com/vi/Ur2b5QcnmCo/0.jpg)](https://www.youtube.com/watch?v=Ur2b5QcnmCo)"
   ]
  },
  {
   "cell_type": "code",
   "execution_count": null,
   "metadata": {},
   "outputs": [],
   "source": [
    "import time\n",
    "\n",
    "# Download geckodriver (https://github.com/mozilla/geckodriver/releases) and put it in path\n",
    "# Salenium webdriver: https://www.selenium.dev/documentation/overview/\n",
    "from selenium import webdriver\n",
    "from selenium.webdriver.firefox.options import Options\n",
    "from selenium.webdriver.firefox.service import Service\n",
    "from selenium.webdriver.common.by import By"
   ]
  },
  {
   "cell_type": "code",
   "execution_count": null,
   "metadata": {},
   "outputs": [],
   "source": [
    "def report_element(e, i=\"\"):\n",
    "    print(i, e)\n",
    "    print(i, e.text)\n",
    "    print(i, e.get_attribute(\"class\"))\n",
    "    print(i, e.id)\n",
    "    print(i, e.tag_name)\n",
    "\n",
    "def report_elements(browser, search_string):    # get all the three dots edit options\n",
    "    print(search_string)\n",
    "    for i, button in enumerate(browser.find_elements(By.XPATH, search_string)):\n",
    "        report_element(button, i)\n",
    "        print()"
   ]
  },
  {
   "cell_type": "markdown",
   "metadata": {},
   "source": [
    "## Create Virtual Browser\n",
    "\n",
    "Create a firefox instance using an existing profile that MUST be logged into TeamApp.\n",
    "\n",
    "Set the following variables and in particular `FIREFOX_PROFILE_PATH` to the existing Firefox profile that is already logged into the club's TeamApp."
   ]
  },
  {
   "cell_type": "code",
   "execution_count": 10,
   "metadata": {},
   "outputs": [],
   "source": [
    "# URL of the club's TeamApp\n",
    "URL_TEAMAPP = \"https://brunswickmagicbasketball.teamapp.com\"\n",
    "\n",
    "# Folder with the firefox profile to be used\n",
    "FIREFOX_PROFILE_PATH = '/home/ssardina/.mozilla/firefox/88weweww.ssardina'\n",
    "\n",
    "GECKODRIVER_PATH = '/home/ssardina/bin/geckodriver'\n",
    "\n",
    "URL_MODULE = f\"{URL_TEAMAPP}/events?_list=v1&page=2&team_id=all\"\n",
    "\n"
   ]
  },
  {
   "cell_type": "code",
   "execution_count": null,
   "metadata": {},
   "outputs": [],
   "source": [
    "# firefox profile of user already logged in teamapp\n",
    "\n",
    "options = Options()\n",
    "# options.headless = True\n",
    "options.page_load_strategy = 'eager'\n",
    "options.set_preference('profile', FIREFOX_PROFILE_PATH)\n",
    "\n",
    "# https://github.com/SeleniumHQ/selenium/issues/11028\n",
    "# use an existing firefox profile (must be logged in teamapps already!)\n",
    "options.add_argument(\"-profile\")\n",
    "options.add_argument(FIREFOX_PROFILE_PATH)\n",
    "\n",
    "service = None\n",
    "# service = Service(GECKODRIVER_PATH)\n",
    "\n",
    "if service is not None:\n",
    "    browser = webdriver.Firefox(service=service, options=options)\n",
    "else:\n",
    "    browser = webdriver.Firefox(options=options)\n",
    "# browser.maximize_window()\n",
    "\n",
    "browser.get(URL_MODULE)\n",
    "\n",
    "# browser.quit()\n"
   ]
  },
  {
   "cell_type": "markdown",
   "metadata": {},
   "source": [
    "In case you want to close it:"
   ]
  },
  {
   "cell_type": "code",
   "execution_count": null,
   "metadata": {},
   "outputs": [],
   "source": [
    "browser.quit()"
   ]
  },
  {
   "cell_type": "markdown",
   "metadata": {},
   "source": [
    "# Test recurr one schedule\n",
    "\n",
    "We start by retrieving the member card:"
   ]
  },
  {
   "cell_type": "code",
   "execution_count": 21,
   "metadata": {},
   "outputs": [],
   "source": [
    "# get to the All Schedule Entries\n",
    "browser.get(URL_MODULE)"
   ]
  },
  {
   "cell_type": "markdown",
   "metadata": {},
   "source": [
    "### 1. Go to the team schedule"
   ]
  },
  {
   "cell_type": "markdown",
   "metadata": {},
   "source": [
    "#### Option 1: Directly click three dots of the team (PROBLEM!)\n",
    "\n",
    "NOTE: when I do this option, the `Team` field comes empty! :_()"
   ]
  },
  {
   "cell_type": "code",
   "execution_count": 17,
   "metadata": {},
   "outputs": [
    {
     "name": "stdout",
     "output_type": "stream",
     "text": [
      "0 <selenium.webdriver.remote.webelement.WebElement (session=\"10f10f37-a20b-4a6e-b0d7-2a749f1a426b\", element=\"3578c3a2-40b1-4347-9bee-be99def767c0\")>\n",
      "0 \n",
      "0 v-icon notranslate mdi mdi-dots-vertical theme--light\n",
      "0 3578c3a2-40b1-4347-9bee-be99def767c0\n",
      "0 i\n",
      "\n",
      "1 <selenium.webdriver.remote.webelement.WebElement (session=\"10f10f37-a20b-4a6e-b0d7-2a749f1a426b\", element=\"52a4503f-ad5d-4d55-a486-e4e5ff054095\")>\n",
      "1 \n",
      "1 v-icon notranslate mdi mdi-dots-vertical theme--light\n",
      "1 52a4503f-ad5d-4d55-a486-e4e5ff054095\n",
      "1 i\n",
      "\n",
      "2 <selenium.webdriver.remote.webelement.WebElement (session=\"10f10f37-a20b-4a6e-b0d7-2a749f1a426b\", element=\"0de0f2ed-f56e-4e48-a7c3-93a0324d9ae3\")>\n",
      "2 \n",
      "2 v-icon notranslate mdi mdi-dots-vertical theme--light\n",
      "2 0de0f2ed-f56e-4e48-a7c3-93a0324d9ae3\n",
      "2 i\n",
      "\n",
      "3 <selenium.webdriver.remote.webelement.WebElement (session=\"10f10f37-a20b-4a6e-b0d7-2a749f1a426b\", element=\"329659c5-8b47-407a-9764-24acffcce0eb\")>\n",
      "3 \n",
      "3 v-icon notranslate mdi mdi-dots-vertical theme--light\n",
      "3 329659c5-8b47-407a-9764-24acffcce0eb\n",
      "3 i\n",
      "\n",
      "4 <selenium.webdriver.remote.webelement.WebElement (session=\"10f10f37-a20b-4a6e-b0d7-2a749f1a426b\", element=\"ff83e54f-bede-4a24-87c2-ea3877e56bc4\")>\n",
      "4 \n",
      "4 v-icon notranslate mdi mdi-dots-vertical theme--light\n",
      "4 ff83e54f-bede-4a24-87c2-ea3877e56bc4\n",
      "4 i\n",
      "\n",
      "5 <selenium.webdriver.remote.webelement.WebElement (session=\"10f10f37-a20b-4a6e-b0d7-2a749f1a426b\", element=\"298bad4a-7004-497e-91c5-765e596ea80c\")>\n",
      "5 \n",
      "5 v-icon notranslate mdi mdi-dots-vertical theme--light\n",
      "5 298bad4a-7004-497e-91c5-765e596ea80c\n",
      "5 i\n",
      "\n",
      "6 <selenium.webdriver.remote.webelement.WebElement (session=\"10f10f37-a20b-4a6e-b0d7-2a749f1a426b\", element=\"69cda16f-f090-43fb-b46f-3f0110d3ce13\")>\n",
      "6 \n",
      "6 v-icon notranslate mdi mdi-dots-vertical theme--light\n",
      "6 69cda16f-f090-43fb-b46f-3f0110d3ce13\n",
      "6 i\n",
      "\n",
      "7 <selenium.webdriver.remote.webelement.WebElement (session=\"10f10f37-a20b-4a6e-b0d7-2a749f1a426b\", element=\"4039b02d-deba-403c-ba67-8db53bd14a06\")>\n",
      "7 \n",
      "7 v-icon notranslate mdi mdi-dots-vertical theme--light\n",
      "7 4039b02d-deba-403c-ba67-8db53bd14a06\n",
      "7 i\n",
      "\n",
      "8 <selenium.webdriver.remote.webelement.WebElement (session=\"10f10f37-a20b-4a6e-b0d7-2a749f1a426b\", element=\"0bc45642-8686-4ba8-b7dc-1228e3d101a0\")>\n",
      "8 \n",
      "8 v-icon notranslate mdi mdi-dots-vertical theme--light\n",
      "8 0bc45642-8686-4ba8-b7dc-1228e3d101a0\n",
      "8 i\n",
      "\n",
      "9 <selenium.webdriver.remote.webelement.WebElement (session=\"10f10f37-a20b-4a6e-b0d7-2a749f1a426b\", element=\"9b70af2d-47fb-43b9-8f5e-367df71ba0d6\")>\n",
      "9 \n",
      "9 v-icon notranslate mdi mdi-dots-vertical theme--light\n",
      "9 9b70af2d-47fb-43b9-8f5e-367df71ba0d6\n",
      "9 i\n",
      "\n",
      "10 <selenium.webdriver.remote.webelement.WebElement (session=\"10f10f37-a20b-4a6e-b0d7-2a749f1a426b\", element=\"cbc9139d-4713-461b-8a70-7d731d02a79b\")>\n",
      "10 \n",
      "10 v-icon notranslate mdi mdi-dots-vertical theme--light\n",
      "10 cbc9139d-4713-461b-8a70-7d731d02a79b\n",
      "10 i\n",
      "\n",
      "11 <selenium.webdriver.remote.webelement.WebElement (session=\"10f10f37-a20b-4a6e-b0d7-2a749f1a426b\", element=\"cbcb772e-f14d-4385-a8e8-bebe0c5eb58f\")>\n",
      "11 \n",
      "11 v-icon notranslate mdi mdi-dots-vertical theme--light\n",
      "11 cbcb772e-f14d-4385-a8e8-bebe0c5eb58f\n",
      "11 i\n",
      "\n",
      "12 <selenium.webdriver.remote.webelement.WebElement (session=\"10f10f37-a20b-4a6e-b0d7-2a749f1a426b\", element=\"90b6cd9d-3cba-4e37-8996-e0459d775351\")>\n",
      "12 \n",
      "12 v-icon notranslate mdi mdi-dots-vertical theme--light\n",
      "12 90b6cd9d-3cba-4e37-8996-e0459d775351\n",
      "12 i\n",
      "\n",
      "13 <selenium.webdriver.remote.webelement.WebElement (session=\"10f10f37-a20b-4a6e-b0d7-2a749f1a426b\", element=\"f687a363-42bc-4c55-8145-124cadb955bb\")>\n",
      "13 \n",
      "13 v-icon notranslate mdi mdi-dots-vertical theme--light\n",
      "13 f687a363-42bc-4c55-8145-124cadb955bb\n",
      "13 i\n",
      "\n",
      "14 <selenium.webdriver.remote.webelement.WebElement (session=\"10f10f37-a20b-4a6e-b0d7-2a749f1a426b\", element=\"be252913-16fe-4594-8ecc-fab99abdbec8\")>\n",
      "14 \n",
      "14 v-icon notranslate mdi mdi-dots-vertical theme--light\n",
      "14 be252913-16fe-4594-8ecc-fab99abdbec8\n",
      "14 i\n",
      "\n",
      "15 <selenium.webdriver.remote.webelement.WebElement (session=\"10f10f37-a20b-4a6e-b0d7-2a749f1a426b\", element=\"98543bef-350b-40c1-b98e-0c0a4ffbfbee\")>\n",
      "15 \n",
      "15 v-icon notranslate mdi mdi-dots-vertical theme--light\n",
      "15 98543bef-350b-40c1-b98e-0c0a4ffbfbee\n",
      "15 i\n",
      "\n",
      "16 <selenium.webdriver.remote.webelement.WebElement (session=\"10f10f37-a20b-4a6e-b0d7-2a749f1a426b\", element=\"560d04b2-9ec4-48fd-b311-b66e2568ffd1\")>\n",
      "16 \n",
      "16 v-icon notranslate mdi mdi-dots-vertical theme--light\n",
      "16 560d04b2-9ec4-48fd-b311-b66e2568ffd1\n",
      "16 i\n",
      "\n",
      "17 <selenium.webdriver.remote.webelement.WebElement (session=\"10f10f37-a20b-4a6e-b0d7-2a749f1a426b\", element=\"10da168d-fd3b-45a0-b442-5760ca82ca85\")>\n",
      "17 \n",
      "17 v-icon notranslate mdi mdi-dots-vertical theme--light\n",
      "17 10da168d-fd3b-45a0-b442-5760ca82ca85\n",
      "17 i\n",
      "\n",
      "18 <selenium.webdriver.remote.webelement.WebElement (session=\"10f10f37-a20b-4a6e-b0d7-2a749f1a426b\", element=\"b530d3b7-1332-4eac-9dc9-9448d9769ebe\")>\n",
      "18 \n",
      "18 v-icon notranslate mdi mdi-dots-vertical theme--light\n",
      "18 b530d3b7-1332-4eac-9dc9-9448d9769ebe\n",
      "18 i\n",
      "\n",
      "19 <selenium.webdriver.remote.webelement.WebElement (session=\"10f10f37-a20b-4a6e-b0d7-2a749f1a426b\", element=\"fdd35281-8853-4d98-a694-df8b23d79aa4\")>\n",
      "19 \n",
      "19 v-icon notranslate mdi mdi-dots-vertical theme--light\n",
      "19 fdd35281-8853-4d98-a694-df8b23d79aa4\n",
      "19 i\n",
      "\n",
      "20 <selenium.webdriver.remote.webelement.WebElement (session=\"10f10f37-a20b-4a6e-b0d7-2a749f1a426b\", element=\"1971b56e-bd6f-442a-b8fb-7fde206e7d01\")>\n",
      "20 \n",
      "20 v-icon notranslate mdi mdi-dots-vertical theme--light\n",
      "20 1971b56e-bd6f-442a-b8fb-7fde206e7d01\n",
      "20 i\n",
      "\n",
      "21 <selenium.webdriver.remote.webelement.WebElement (session=\"10f10f37-a20b-4a6e-b0d7-2a749f1a426b\", element=\"061c0c1c-c8db-47cd-8c3e-7ebdc8c7852f\")>\n",
      "21 \n",
      "21 v-icon notranslate mdi mdi-dots-vertical theme--light\n",
      "21 061c0c1c-c8db-47cd-8c3e-7ebdc8c7852f\n",
      "21 i\n",
      "\n",
      "22 <selenium.webdriver.remote.webelement.WebElement (session=\"10f10f37-a20b-4a6e-b0d7-2a749f1a426b\", element=\"47a92532-52fc-4f8d-b89c-09dd0fc3d378\")>\n",
      "22 \n",
      "22 v-icon notranslate mdi mdi-dots-vertical theme--light\n",
      "22 47a92532-52fc-4f8d-b89c-09dd0fc3d378\n",
      "22 i\n",
      "\n",
      "23 <selenium.webdriver.remote.webelement.WebElement (session=\"10f10f37-a20b-4a6e-b0d7-2a749f1a426b\", element=\"88914b68-d332-4c45-8bb4-bcab4f72fdd5\")>\n",
      "23 \n",
      "23 v-icon notranslate mdi mdi-dots-vertical theme--light\n",
      "23 88914b68-d332-4c45-8bb4-bcab4f72fdd5\n",
      "23 i\n",
      "\n",
      "24 <selenium.webdriver.remote.webelement.WebElement (session=\"10f10f37-a20b-4a6e-b0d7-2a749f1a426b\", element=\"4ab0e528-fbaf-4728-a9fd-f1bfe4d354be\")>\n",
      "24 \n",
      "24 v-icon notranslate mdi mdi-dots-vertical theme--light\n",
      "24 4ab0e528-fbaf-4728-a9fd-f1bfe4d354be\n",
      "24 i\n",
      "\n",
      "25 <selenium.webdriver.remote.webelement.WebElement (session=\"10f10f37-a20b-4a6e-b0d7-2a749f1a426b\", element=\"12151418-f29d-4ecc-b67f-6839adf1df75\")>\n",
      "25 \n",
      "25 v-icon notranslate mdi mdi-dots-vertical theme--light\n",
      "25 12151418-f29d-4ecc-b67f-6839adf1df75\n",
      "25 i\n",
      "\n",
      "26 <selenium.webdriver.remote.webelement.WebElement (session=\"10f10f37-a20b-4a6e-b0d7-2a749f1a426b\", element=\"287a98e8-abaf-4be3-b33e-5ad1281d7d06\")>\n",
      "26 \n",
      "26 v-icon notranslate mdi mdi-dots-vertical theme--light\n",
      "26 287a98e8-abaf-4be3-b33e-5ad1281d7d06\n",
      "26 i\n",
      "\n",
      "27 <selenium.webdriver.remote.webelement.WebElement (session=\"10f10f37-a20b-4a6e-b0d7-2a749f1a426b\", element=\"e8c1cc91-88e5-42cd-bf36-5060881f097f\")>\n",
      "27 \n",
      "27 v-icon notranslate mdi mdi-dots-vertical theme--light\n",
      "27 e8c1cc91-88e5-42cd-bf36-5060881f097f\n",
      "27 i\n",
      "\n",
      "28 <selenium.webdriver.remote.webelement.WebElement (session=\"10f10f37-a20b-4a6e-b0d7-2a749f1a426b\", element=\"220b5616-ad2e-4f8a-8254-91407c72f97d\")>\n",
      "28 \n",
      "28 v-icon notranslate mdi mdi-dots-vertical theme--light\n",
      "28 220b5616-ad2e-4f8a-8254-91407c72f97d\n",
      "28 i\n",
      "\n",
      "29 <selenium.webdriver.remote.webelement.WebElement (session=\"10f10f37-a20b-4a6e-b0d7-2a749f1a426b\", element=\"19f5ec73-4c11-433f-a819-820844adc151\")>\n",
      "29 \n",
      "29 v-icon notranslate mdi mdi-dots-vertical theme--light\n",
      "29 19f5ec73-4c11-433f-a819-820844adc151\n",
      "29 i\n",
      "\n",
      "30 <selenium.webdriver.remote.webelement.WebElement (session=\"10f10f37-a20b-4a6e-b0d7-2a749f1a426b\", element=\"1eefcc81-34ac-4ce9-adf9-7b5981f0a17a\")>\n",
      "30 \n",
      "30 v-icon notranslate mdi mdi-dots-vertical theme--light\n",
      "30 1eefcc81-34ac-4ce9-adf9-7b5981f0a17a\n",
      "30 i\n",
      "\n",
      "31 <selenium.webdriver.remote.webelement.WebElement (session=\"10f10f37-a20b-4a6e-b0d7-2a749f1a426b\", element=\"c2ab5d35-8145-4e91-bb6b-b91925842a7c\")>\n",
      "31 \n",
      "31 v-icon notranslate mdi mdi-dots-vertical theme--light\n",
      "31 c2ab5d35-8145-4e91-bb6b-b91925842a7c\n",
      "31 i\n",
      "\n",
      "32 <selenium.webdriver.remote.webelement.WebElement (session=\"10f10f37-a20b-4a6e-b0d7-2a749f1a426b\", element=\"1aeba0ff-9733-49a8-a57b-5e71a26e435a\")>\n",
      "32 \n",
      "32 v-icon notranslate mdi mdi-dots-vertical theme--light\n",
      "32 1aeba0ff-9733-49a8-a57b-5e71a26e435a\n",
      "32 i\n",
      "\n",
      "33 <selenium.webdriver.remote.webelement.WebElement (session=\"10f10f37-a20b-4a6e-b0d7-2a749f1a426b\", element=\"f0568b46-61b2-4de3-94ff-4b482dbbe878\")>\n",
      "33 \n",
      "33 v-icon notranslate mdi mdi-dots-vertical theme--light\n",
      "33 f0568b46-61b2-4de3-94ff-4b482dbbe878\n",
      "33 i\n",
      "\n",
      "34 <selenium.webdriver.remote.webelement.WebElement (session=\"10f10f37-a20b-4a6e-b0d7-2a749f1a426b\", element=\"98db26cf-7b2f-4fe1-9532-6a7d7693e91a\")>\n",
      "34 \n",
      "34 v-icon notranslate mdi mdi-dots-vertical theme--light\n",
      "34 98db26cf-7b2f-4fe1-9532-6a7d7693e91a\n",
      "34 i\n",
      "\n",
      "35 <selenium.webdriver.remote.webelement.WebElement (session=\"10f10f37-a20b-4a6e-b0d7-2a749f1a426b\", element=\"8f91f155-2368-47f1-b791-42f30cd43a37\")>\n",
      "35 \n",
      "35 v-icon notranslate mdi mdi-dots-vertical theme--light\n",
      "35 8f91f155-2368-47f1-b791-42f30cd43a37\n",
      "35 i\n",
      "\n",
      "36 <selenium.webdriver.remote.webelement.WebElement (session=\"10f10f37-a20b-4a6e-b0d7-2a749f1a426b\", element=\"d1a94fa9-664d-4e84-8d58-fc553bc25bdc\")>\n",
      "36 \n",
      "36 v-icon notranslate mdi mdi-dots-vertical theme--light\n",
      "36 d1a94fa9-664d-4e84-8d58-fc553bc25bdc\n",
      "36 i\n",
      "\n",
      "37 <selenium.webdriver.remote.webelement.WebElement (session=\"10f10f37-a20b-4a6e-b0d7-2a749f1a426b\", element=\"d7ac74ab-a9a3-4110-9163-f0c032d09284\")>\n",
      "37 \n",
      "37 v-icon notranslate mdi mdi-dots-vertical theme--light\n",
      "37 d7ac74ab-a9a3-4110-9163-f0c032d09284\n",
      "37 i\n",
      "\n"
     ]
    }
   ],
   "source": [
    "# get all the three dots edit options\n",
    "buttons_teams = browser.find_elements(By.XPATH, '//i[contains(@class, \"mdi-dots-vertical\")]')\n",
    "\n",
    "for i, button in enumerate(buttons_teams):\n",
    "    report_element(button, i)\n",
    "    print()"
   ]
  },
  {
   "cell_type": "code",
   "execution_count": 19,
   "metadata": {},
   "outputs": [
    {
     "ename": "StaleElementReferenceException",
     "evalue": "Message: The element with the reference 52a4503f-ad5d-4d55-a486-e4e5ff054095 is stale; either its node document is not the active document, or it is no longer connected to the DOM\nStacktrace:\nRemoteError@chrome://remote/content/shared/RemoteError.sys.mjs:8:8\nWebDriverError@chrome://remote/content/shared/webdriver/Errors.sys.mjs:192:5\nStaleElementReferenceError@chrome://remote/content/shared/webdriver/Errors.sys.mjs:724:5\ngetKnownElement@chrome://remote/content/marionette/json.sys.mjs:401:11\ndeserializeJSON@chrome://remote/content/marionette/json.sys.mjs:259:20\ncloneObject@chrome://remote/content/marionette/json.sys.mjs:59:24\ndeserializeJSON@chrome://remote/content/marionette/json.sys.mjs:289:16\njson.deserialize@chrome://remote/content/marionette/json.sys.mjs:293:10\nreceiveMessage@chrome://remote/content/marionette/actors/MarionetteCommandsChild.sys.mjs:72:30\n",
     "output_type": "error",
     "traceback": [
      "\u001b[0;31m---------------------------------------------------------------------------\u001b[0m",
      "\u001b[0;31mStaleElementReferenceException\u001b[0m            Traceback (most recent call last)",
      "Input \u001b[0;32mIn [19]\u001b[0m, in \u001b[0;36m<cell line: 5>\u001b[0;34m()\u001b[0m\n\u001b[1;32m      3\u001b[0m \u001b[38;5;66;03m# Open the advanced options for a particular team\u001b[39;00m\n\u001b[1;32m      4\u001b[0m button \u001b[38;5;241m=\u001b[39m buttons_teams[TEAM_NO]\n\u001b[0;32m----> 5\u001b[0m \u001b[43mbutton\u001b[49m\u001b[38;5;241;43m.\u001b[39;49m\u001b[43mclick\u001b[49m\u001b[43m(\u001b[49m\u001b[43m)\u001b[49m\n\u001b[1;32m      7\u001b[0m time\u001b[38;5;241m.\u001b[39msleep(\u001b[38;5;241m2\u001b[39m)\n\u001b[1;32m      9\u001b[0m \u001b[38;5;66;03m# now click EDIT\u001b[39;00m\n",
      "File \u001b[0;32m~/.local/lib/python3.10/site-packages/selenium/webdriver/remote/webelement.py:93\u001b[0m, in \u001b[0;36mWebElement.click\u001b[0;34m(self)\u001b[0m\n\u001b[1;32m     91\u001b[0m \u001b[38;5;28;01mdef\u001b[39;00m \u001b[38;5;21mclick\u001b[39m(\u001b[38;5;28mself\u001b[39m) \u001b[38;5;241m-\u001b[39m\u001b[38;5;241m>\u001b[39m \u001b[38;5;28;01mNone\u001b[39;00m:\n\u001b[1;32m     92\u001b[0m \u001b[38;5;250m    \u001b[39m\u001b[38;5;124;03m\"\"\"Clicks the element.\"\"\"\u001b[39;00m\n\u001b[0;32m---> 93\u001b[0m     \u001b[38;5;28;43mself\u001b[39;49m\u001b[38;5;241;43m.\u001b[39;49m\u001b[43m_execute\u001b[49m\u001b[43m(\u001b[49m\u001b[43mCommand\u001b[49m\u001b[38;5;241;43m.\u001b[39;49m\u001b[43mCLICK_ELEMENT\u001b[49m\u001b[43m)\u001b[49m\n",
      "File \u001b[0;32m~/.local/lib/python3.10/site-packages/selenium/webdriver/remote/webelement.py:410\u001b[0m, in \u001b[0;36mWebElement._execute\u001b[0;34m(self, command, params)\u001b[0m\n\u001b[1;32m    408\u001b[0m     params \u001b[38;5;241m=\u001b[39m {}\n\u001b[1;32m    409\u001b[0m params[\u001b[38;5;124m\"\u001b[39m\u001b[38;5;124mid\u001b[39m\u001b[38;5;124m\"\u001b[39m] \u001b[38;5;241m=\u001b[39m \u001b[38;5;28mself\u001b[39m\u001b[38;5;241m.\u001b[39m_id\n\u001b[0;32m--> 410\u001b[0m \u001b[38;5;28;01mreturn\u001b[39;00m \u001b[38;5;28;43mself\u001b[39;49m\u001b[38;5;241;43m.\u001b[39;49m\u001b[43m_parent\u001b[49m\u001b[38;5;241;43m.\u001b[39;49m\u001b[43mexecute\u001b[49m\u001b[43m(\u001b[49m\u001b[43mcommand\u001b[49m\u001b[43m,\u001b[49m\u001b[43m \u001b[49m\u001b[43mparams\u001b[49m\u001b[43m)\u001b[49m\n",
      "File \u001b[0;32m~/.local/lib/python3.10/site-packages/selenium/webdriver/remote/webdriver.py:444\u001b[0m, in \u001b[0;36mWebDriver.execute\u001b[0;34m(self, driver_command, params)\u001b[0m\n\u001b[1;32m    442\u001b[0m response \u001b[38;5;241m=\u001b[39m \u001b[38;5;28mself\u001b[39m\u001b[38;5;241m.\u001b[39mcommand_executor\u001b[38;5;241m.\u001b[39mexecute(driver_command, params)\n\u001b[1;32m    443\u001b[0m \u001b[38;5;28;01mif\u001b[39;00m response:\n\u001b[0;32m--> 444\u001b[0m     \u001b[38;5;28;43mself\u001b[39;49m\u001b[38;5;241;43m.\u001b[39;49m\u001b[43merror_handler\u001b[49m\u001b[38;5;241;43m.\u001b[39;49m\u001b[43mcheck_response\u001b[49m\u001b[43m(\u001b[49m\u001b[43mresponse\u001b[49m\u001b[43m)\u001b[49m\n\u001b[1;32m    445\u001b[0m     response[\u001b[38;5;124m\"\u001b[39m\u001b[38;5;124mvalue\u001b[39m\u001b[38;5;124m\"\u001b[39m] \u001b[38;5;241m=\u001b[39m \u001b[38;5;28mself\u001b[39m\u001b[38;5;241m.\u001b[39m_unwrap_value(response\u001b[38;5;241m.\u001b[39mget(\u001b[38;5;124m\"\u001b[39m\u001b[38;5;124mvalue\u001b[39m\u001b[38;5;124m\"\u001b[39m, \u001b[38;5;28;01mNone\u001b[39;00m))\n\u001b[1;32m    446\u001b[0m     \u001b[38;5;28;01mreturn\u001b[39;00m response\n",
      "File \u001b[0;32m~/.local/lib/python3.10/site-packages/selenium/webdriver/remote/errorhandler.py:249\u001b[0m, in \u001b[0;36mErrorHandler.check_response\u001b[0;34m(self, response)\u001b[0m\n\u001b[1;32m    247\u001b[0m         alert_text \u001b[38;5;241m=\u001b[39m value[\u001b[38;5;124m\"\u001b[39m\u001b[38;5;124malert\u001b[39m\u001b[38;5;124m\"\u001b[39m]\u001b[38;5;241m.\u001b[39mget(\u001b[38;5;124m\"\u001b[39m\u001b[38;5;124mtext\u001b[39m\u001b[38;5;124m\"\u001b[39m)\n\u001b[1;32m    248\u001b[0m     \u001b[38;5;28;01mraise\u001b[39;00m exception_class(message, screen, stacktrace, alert_text)  \u001b[38;5;66;03m# type: ignore[call-arg]  # mypy is not smart enough here\u001b[39;00m\n\u001b[0;32m--> 249\u001b[0m \u001b[38;5;28;01mraise\u001b[39;00m exception_class(message, screen, stacktrace)\n",
      "\u001b[0;31mStaleElementReferenceException\u001b[0m: Message: The element with the reference 52a4503f-ad5d-4d55-a486-e4e5ff054095 is stale; either its node document is not the active document, or it is no longer connected to the DOM\nStacktrace:\nRemoteError@chrome://remote/content/shared/RemoteError.sys.mjs:8:8\nWebDriverError@chrome://remote/content/shared/webdriver/Errors.sys.mjs:192:5\nStaleElementReferenceError@chrome://remote/content/shared/webdriver/Errors.sys.mjs:724:5\ngetKnownElement@chrome://remote/content/marionette/json.sys.mjs:401:11\ndeserializeJSON@chrome://remote/content/marionette/json.sys.mjs:259:20\ncloneObject@chrome://remote/content/marionette/json.sys.mjs:59:24\ndeserializeJSON@chrome://remote/content/marionette/json.sys.mjs:289:16\njson.deserialize@chrome://remote/content/marionette/json.sys.mjs:293:10\nreceiveMessage@chrome://remote/content/marionette/actors/MarionetteCommandsChild.sys.mjs:72:30\n"
     ]
    }
   ],
   "source": [
    "TEAM_NO = 1\n",
    "\n",
    "# Open the advanced options for a particular team\n",
    "button = buttons_teams[TEAM_NO]\n",
    "button.click()\n",
    "\n",
    "time.sleep(2)\n",
    "\n",
    "# now click EDIT\n",
    "buttons = browser.find_elements(By.XPATH, \"//*[contains(text(),'Edit') and contains(@class, 'action-list-item-title')]\")\n",
    "buttons[0].click()\n"
   ]
  },
  {
   "cell_type": "markdown",
   "metadata": {},
   "source": [
    "#### Option 2: Select a team, then edit (preferred)"
   ]
  },
  {
   "cell_type": "markdown",
   "metadata": {},
   "source": [
    "First enter into the team schedule:"
   ]
  },
  {
   "cell_type": "code",
   "execution_count": 23,
   "metadata": {},
   "outputs": [
    {
     "name": "stdout",
     "output_type": "stream",
     "text": [
      "Schedule to edit: U14 Girls Purple Training\n"
     ]
    }
   ],
   "source": [
    "# the team number you want to edit\n",
    "TEAM_NO = 0\n",
    "\n",
    "# get the button of all the training schedules in the screen (listed with names \"U08 Mixed Gold Training\")\n",
    "buttons = browser.find_elements(By.XPATH, r\"//*[contains(text(),'Training') and @class='v-list-item__title']\")\n",
    "buttons[TEAM_NO].click()\n",
    "print(\"Schedule to edit:\" , buttons[TEAM_NO].text)"
   ]
  },
  {
   "cell_type": "markdown",
   "metadata": {},
   "source": [
    "Next click the three dot options top right and then EDIT:"
   ]
  },
  {
   "cell_type": "code",
   "execution_count": 25,
   "metadata": {},
   "outputs": [
    {
     "ename": "ElementNotInteractableException",
     "evalue": "Message: Element <script> could not be scrolled into view\nStacktrace:\nRemoteError@chrome://remote/content/shared/RemoteError.sys.mjs:8:8\nWebDriverError@chrome://remote/content/shared/webdriver/Errors.sys.mjs:192:5\nElementNotInteractableError@chrome://remote/content/shared/webdriver/Errors.sys.mjs:352:5\nwebdriverClickElement@chrome://remote/content/marionette/interaction.sys.mjs:166:11\ninteraction.clickElement@chrome://remote/content/marionette/interaction.sys.mjs:135:11\nclickElement@chrome://remote/content/marionette/actors/MarionetteCommandsChild.sys.mjs:204:29\nreceiveMessage@chrome://remote/content/marionette/actors/MarionetteCommandsChild.sys.mjs:84:31\n",
     "output_type": "error",
     "traceback": [
      "\u001b[0;31m---------------------------------------------------------------------------\u001b[0m",
      "\u001b[0;31mElementNotInteractableException\u001b[0m           Traceback (most recent call last)",
      "Input \u001b[0;32mIn [25]\u001b[0m, in \u001b[0;36m<cell line: 3>\u001b[0;34m()\u001b[0m\n\u001b[1;32m      1\u001b[0m \u001b[38;5;66;03m# click options three dots button (top-right)\u001b[39;00m\n\u001b[1;32m      2\u001b[0m buttons \u001b[38;5;241m=\u001b[39m browser\u001b[38;5;241m.\u001b[39mfind_elements(By\u001b[38;5;241m.\u001b[39mXPATH, \u001b[38;5;124m'\u001b[39m\u001b[38;5;124m//*[contains(text(), \u001b[39m\u001b[38;5;124m\"\u001b[39m\u001b[38;5;124mmore_vert\u001b[39m\u001b[38;5;124m\"\u001b[39m\u001b[38;5;124m)]\u001b[39m\u001b[38;5;124m'\u001b[39m)\n\u001b[0;32m----> 3\u001b[0m \u001b[43mbuttons\u001b[49m\u001b[43m[\u001b[49m\u001b[38;5;241;43m0\u001b[39;49m\u001b[43m]\u001b[49m\u001b[38;5;241;43m.\u001b[39;49m\u001b[43mclick\u001b[49m\u001b[43m(\u001b[49m\u001b[43m)\u001b[49m\n\u001b[1;32m      5\u001b[0m \u001b[38;5;66;03m# now EDIT!\u001b[39;00m\n\u001b[1;32m      6\u001b[0m buttons \u001b[38;5;241m=\u001b[39m browser\u001b[38;5;241m.\u001b[39mfind_elements(By\u001b[38;5;241m.\u001b[39mXPATH, \u001b[38;5;124m\"\u001b[39m\u001b[38;5;124m//*[contains(text(),\u001b[39m\u001b[38;5;124m'\u001b[39m\u001b[38;5;124mEdit\u001b[39m\u001b[38;5;124m'\u001b[39m\u001b[38;5;124m) and @class=\u001b[39m\u001b[38;5;124m'\u001b[39m\u001b[38;5;124mv-list-item__title\u001b[39m\u001b[38;5;124m'\u001b[39m\u001b[38;5;124m]\u001b[39m\u001b[38;5;124m\"\u001b[39m)\n",
      "File \u001b[0;32m~/.local/lib/python3.10/site-packages/selenium/webdriver/remote/webelement.py:93\u001b[0m, in \u001b[0;36mWebElement.click\u001b[0;34m(self)\u001b[0m\n\u001b[1;32m     91\u001b[0m \u001b[38;5;28;01mdef\u001b[39;00m \u001b[38;5;21mclick\u001b[39m(\u001b[38;5;28mself\u001b[39m) \u001b[38;5;241m-\u001b[39m\u001b[38;5;241m>\u001b[39m \u001b[38;5;28;01mNone\u001b[39;00m:\n\u001b[1;32m     92\u001b[0m \u001b[38;5;250m    \u001b[39m\u001b[38;5;124;03m\"\"\"Clicks the element.\"\"\"\u001b[39;00m\n\u001b[0;32m---> 93\u001b[0m     \u001b[38;5;28;43mself\u001b[39;49m\u001b[38;5;241;43m.\u001b[39;49m\u001b[43m_execute\u001b[49m\u001b[43m(\u001b[49m\u001b[43mCommand\u001b[49m\u001b[38;5;241;43m.\u001b[39;49m\u001b[43mCLICK_ELEMENT\u001b[49m\u001b[43m)\u001b[49m\n",
      "File \u001b[0;32m~/.local/lib/python3.10/site-packages/selenium/webdriver/remote/webelement.py:410\u001b[0m, in \u001b[0;36mWebElement._execute\u001b[0;34m(self, command, params)\u001b[0m\n\u001b[1;32m    408\u001b[0m     params \u001b[38;5;241m=\u001b[39m {}\n\u001b[1;32m    409\u001b[0m params[\u001b[38;5;124m\"\u001b[39m\u001b[38;5;124mid\u001b[39m\u001b[38;5;124m\"\u001b[39m] \u001b[38;5;241m=\u001b[39m \u001b[38;5;28mself\u001b[39m\u001b[38;5;241m.\u001b[39m_id\n\u001b[0;32m--> 410\u001b[0m \u001b[38;5;28;01mreturn\u001b[39;00m \u001b[38;5;28;43mself\u001b[39;49m\u001b[38;5;241;43m.\u001b[39;49m\u001b[43m_parent\u001b[49m\u001b[38;5;241;43m.\u001b[39;49m\u001b[43mexecute\u001b[49m\u001b[43m(\u001b[49m\u001b[43mcommand\u001b[49m\u001b[43m,\u001b[49m\u001b[43m \u001b[49m\u001b[43mparams\u001b[49m\u001b[43m)\u001b[49m\n",
      "File \u001b[0;32m~/.local/lib/python3.10/site-packages/selenium/webdriver/remote/webdriver.py:444\u001b[0m, in \u001b[0;36mWebDriver.execute\u001b[0;34m(self, driver_command, params)\u001b[0m\n\u001b[1;32m    442\u001b[0m response \u001b[38;5;241m=\u001b[39m \u001b[38;5;28mself\u001b[39m\u001b[38;5;241m.\u001b[39mcommand_executor\u001b[38;5;241m.\u001b[39mexecute(driver_command, params)\n\u001b[1;32m    443\u001b[0m \u001b[38;5;28;01mif\u001b[39;00m response:\n\u001b[0;32m--> 444\u001b[0m     \u001b[38;5;28;43mself\u001b[39;49m\u001b[38;5;241;43m.\u001b[39;49m\u001b[43merror_handler\u001b[49m\u001b[38;5;241;43m.\u001b[39;49m\u001b[43mcheck_response\u001b[49m\u001b[43m(\u001b[49m\u001b[43mresponse\u001b[49m\u001b[43m)\u001b[49m\n\u001b[1;32m    445\u001b[0m     response[\u001b[38;5;124m\"\u001b[39m\u001b[38;5;124mvalue\u001b[39m\u001b[38;5;124m\"\u001b[39m] \u001b[38;5;241m=\u001b[39m \u001b[38;5;28mself\u001b[39m\u001b[38;5;241m.\u001b[39m_unwrap_value(response\u001b[38;5;241m.\u001b[39mget(\u001b[38;5;124m\"\u001b[39m\u001b[38;5;124mvalue\u001b[39m\u001b[38;5;124m\"\u001b[39m, \u001b[38;5;28;01mNone\u001b[39;00m))\n\u001b[1;32m    446\u001b[0m     \u001b[38;5;28;01mreturn\u001b[39;00m response\n",
      "File \u001b[0;32m~/.local/lib/python3.10/site-packages/selenium/webdriver/remote/errorhandler.py:249\u001b[0m, in \u001b[0;36mErrorHandler.check_response\u001b[0;34m(self, response)\u001b[0m\n\u001b[1;32m    247\u001b[0m         alert_text \u001b[38;5;241m=\u001b[39m value[\u001b[38;5;124m\"\u001b[39m\u001b[38;5;124malert\u001b[39m\u001b[38;5;124m\"\u001b[39m]\u001b[38;5;241m.\u001b[39mget(\u001b[38;5;124m\"\u001b[39m\u001b[38;5;124mtext\u001b[39m\u001b[38;5;124m\"\u001b[39m)\n\u001b[1;32m    248\u001b[0m     \u001b[38;5;28;01mraise\u001b[39;00m exception_class(message, screen, stacktrace, alert_text)  \u001b[38;5;66;03m# type: ignore[call-arg]  # mypy is not smart enough here\u001b[39;00m\n\u001b[0;32m--> 249\u001b[0m \u001b[38;5;28;01mraise\u001b[39;00m exception_class(message, screen, stacktrace)\n",
      "\u001b[0;31mElementNotInteractableException\u001b[0m: Message: Element <script> could not be scrolled into view\nStacktrace:\nRemoteError@chrome://remote/content/shared/RemoteError.sys.mjs:8:8\nWebDriverError@chrome://remote/content/shared/webdriver/Errors.sys.mjs:192:5\nElementNotInteractableError@chrome://remote/content/shared/webdriver/Errors.sys.mjs:352:5\nwebdriverClickElement@chrome://remote/content/marionette/interaction.sys.mjs:166:11\ninteraction.clickElement@chrome://remote/content/marionette/interaction.sys.mjs:135:11\nclickElement@chrome://remote/content/marionette/actors/MarionetteCommandsChild.sys.mjs:204:29\nreceiveMessage@chrome://remote/content/marionette/actors/MarionetteCommandsChild.sys.mjs:84:31\n"
     ]
    }
   ],
   "source": [
    "# click options three dots button (top-right)\n",
    "buttons = browser.find_elements(By.XPATH, '//*[contains(text(), \"more_vert\")]')\n",
    "buttons[0].click()\n",
    "\n",
    "# now EDIT!\n",
    "buttons = browser.find_elements(By.XPATH, \"//*[contains(text(),'Edit') and @class='v-list-item__title']\")\n",
    "# report_elements(browser, \"//*[contains(text(),'Edit')]\")\n",
    "buttons[0].click()"
   ]
  },
  {
   "cell_type": "markdown",
   "metadata": {},
   "source": [
    "### 2. Now edit the open schedule to recurr\n",
    "\n",
    "Now we edit the schedule to recurr."
   ]
  },
  {
   "cell_type": "code",
   "execution_count": 28,
   "metadata": {},
   "outputs": [],
   "source": [
    "# select Every week in Recurring\n",
    "buttons = browser.find_elements(By.XPATH, \"//*[contains(text(),'Every week')]\")\n",
    "buttons[0].click()"
   ]
  },
  {
   "cell_type": "markdown",
   "metadata": {},
   "source": [
    "Next click to open the `Recurring Ends` date dialog to get the calendar:"
   ]
  },
  {
   "cell_type": "code",
   "execution_count": 29,
   "metadata": {},
   "outputs": [],
   "source": [
    "buttons = browser.find_elements(By.XPATH, \"//*[contains(text(),'Recurring Ends')]\")\n",
    "buttons[0].click()"
   ]
  },
  {
   "cell_type": "markdown",
   "metadata": {},
   "source": [
    "Calendar should come now. We need to navigate to the month and then select the day."
   ]
  },
  {
   "cell_type": "code",
   "execution_count": 30,
   "metadata": {},
   "outputs": [],
   "source": [
    "\n",
    "# one month before\n",
    "buttons = browser.find_elements(By.XPATH, '//i[contains(@class, \"mdi-chevron-left\")]')\n",
    "buttons[0].click()\n",
    "\n",
    "time.sleep(0.5)\n",
    "\n",
    "# select 21\n",
    "buttons = browser.find_elements(By.XPATH, \"//*[text() = '21']\")\n",
    "buttons[0].click()\n",
    "\n",
    "time.sleep(0.5)\n",
    "\n",
    "# select OK\n",
    "buttons = browser.find_elements(By.XPATH, \"//*[contains(text(), 'OK') and contains(@class, 'v-btn__content')]\")\n",
    "buttons[0].click()"
   ]
  },
  {
   "cell_type": "markdown",
   "metadata": {},
   "source": [
    "Finally, click `SAVE` the schedule:"
   ]
  },
  {
   "cell_type": "code",
   "execution_count": 32,
   "metadata": {},
   "outputs": [],
   "source": [
    "buttons = browser.find_elements(By.XPATH, \"//*[contains(text(), 'Save') and contains(@class, 'v-btn__content')]\")\n",
    "buttons[0].click()"
   ]
  },
  {
   "cell_type": "markdown",
   "metadata": {},
   "source": [
    "# Bulk edit schedule to recurr"
   ]
  },
  {
   "cell_type": "markdown",
   "metadata": {},
   "source": []
  },
  {
   "cell_type": "code",
   "execution_count": 33,
   "metadata": {},
   "outputs": [
    {
     "name": "stdout",
     "output_type": "stream",
     "text": [
      "Number of teams to update (in page): 25\n",
      "Schedule to edit 0: U14 Girls Purple Training\n",
      "\t Team already recurrent! U14 Girls Purple Training\n",
      "Schedule to edit 1: U12 Girls Gold Training\n",
      "\t Team already recurrent! U12 Girls Gold Training\n",
      "Schedule to edit 2: U14 Girls Diamond Training\n",
      "\t Team saved! U14 Girls Diamond Training\n",
      "Schedule to edit 3: U12 Boys Diamond Training\n",
      "\t Team saved! U12 Boys Diamond Training\n",
      "Schedule to edit 4: U16 Boys Diamond Training\n",
      "\t Team saved! U16 Boys Diamond Training\n",
      "Schedule to edit 5: U10 Girls Diamond Training\n",
      "\t Team saved! U10 Girls Diamond Training\n",
      "Schedule to edit 6: U14 Boys Diamond Training\n",
      "\t Team already recurrent! U14 Boys Diamond Training\n",
      "Schedule to edit 7: U16 Boys Black Training\n",
      "\t Team saved! U16 Boys Black Training\n",
      "Schedule to edit 8: U10 Boys Diamond Training\n",
      "\t Team saved! U10 Boys Diamond Training\n",
      "Schedule to edit 9: U14 Boys Silver Training\n",
      "\t Team saved! U14 Boys Silver Training\n",
      "Schedule to edit 10: U14 Boys Silver Training\n",
      "\t Team already recurrent! U14 Boys Silver Training\n",
      "Schedule to edit 11: U14 Boys White Training\n",
      "\t Team saved! U14 Boys White Training\n",
      "Schedule to edit 12: U12 Girls Purple Training\n",
      "\t Team already recurrent! U12 Girls Purple Training\n",
      "Schedule to edit 13: U10 Girls Gold Training\n",
      "\t Team already recurrent! U10 Girls Gold Training\n",
      "Schedule to edit 14: U10 Girls Black Training\n"
     ]
    },
    {
     "ename": "KeyboardInterrupt",
     "evalue": "",
     "output_type": "error",
     "traceback": [
      "\u001b[0;31m---------------------------------------------------------------------------\u001b[0m",
      "\u001b[0;31mKeyboardInterrupt\u001b[0m                         Traceback (most recent call last)",
      "Input \u001b[0;32mIn [33]\u001b[0m, in \u001b[0;36m<cell line: 8>\u001b[0;34m()\u001b[0m\n\u001b[1;32m     21\u001b[0m \u001b[38;5;66;03m# click options three dots button (top-right)\u001b[39;00m\n\u001b[1;32m     22\u001b[0m buttons \u001b[38;5;241m=\u001b[39m browser\u001b[38;5;241m.\u001b[39mfind_elements(By\u001b[38;5;241m.\u001b[39mXPATH, \u001b[38;5;124m'\u001b[39m\u001b[38;5;124m//*[contains(text(), \u001b[39m\u001b[38;5;124m\"\u001b[39m\u001b[38;5;124mmore_vert\u001b[39m\u001b[38;5;124m\"\u001b[39m\u001b[38;5;124m)]\u001b[39m\u001b[38;5;124m'\u001b[39m)\n\u001b[0;32m---> 23\u001b[0m \u001b[43mbuttons\u001b[49m\u001b[43m[\u001b[49m\u001b[38;5;241;43m0\u001b[39;49m\u001b[43m]\u001b[49m\u001b[38;5;241;43m.\u001b[39;49m\u001b[43mclick\u001b[49m\u001b[43m(\u001b[49m\u001b[43m)\u001b[49m\n\u001b[1;32m     25\u001b[0m \u001b[38;5;66;03m# now EDIT schedule!\u001b[39;00m\n\u001b[1;32m     26\u001b[0m buttons \u001b[38;5;241m=\u001b[39m browser\u001b[38;5;241m.\u001b[39mfind_elements(By\u001b[38;5;241m.\u001b[39mXPATH, \u001b[38;5;124m\"\u001b[39m\u001b[38;5;124m//*[contains(text(),\u001b[39m\u001b[38;5;124m'\u001b[39m\u001b[38;5;124mEdit\u001b[39m\u001b[38;5;124m'\u001b[39m\u001b[38;5;124m) and @class=\u001b[39m\u001b[38;5;124m'\u001b[39m\u001b[38;5;124mv-list-item__title\u001b[39m\u001b[38;5;124m'\u001b[39m\u001b[38;5;124m]\u001b[39m\u001b[38;5;124m\"\u001b[39m)\n",
      "File \u001b[0;32m~/.local/lib/python3.10/site-packages/selenium/webdriver/remote/webelement.py:93\u001b[0m, in \u001b[0;36mWebElement.click\u001b[0;34m(self)\u001b[0m\n\u001b[1;32m     91\u001b[0m \u001b[38;5;28;01mdef\u001b[39;00m \u001b[38;5;21mclick\u001b[39m(\u001b[38;5;28mself\u001b[39m) \u001b[38;5;241m-\u001b[39m\u001b[38;5;241m>\u001b[39m \u001b[38;5;28;01mNone\u001b[39;00m:\n\u001b[1;32m     92\u001b[0m \u001b[38;5;250m    \u001b[39m\u001b[38;5;124;03m\"\"\"Clicks the element.\"\"\"\u001b[39;00m\n\u001b[0;32m---> 93\u001b[0m     \u001b[38;5;28;43mself\u001b[39;49m\u001b[38;5;241;43m.\u001b[39;49m\u001b[43m_execute\u001b[49m\u001b[43m(\u001b[49m\u001b[43mCommand\u001b[49m\u001b[38;5;241;43m.\u001b[39;49m\u001b[43mCLICK_ELEMENT\u001b[49m\u001b[43m)\u001b[49m\n",
      "File \u001b[0;32m~/.local/lib/python3.10/site-packages/selenium/webdriver/remote/webelement.py:410\u001b[0m, in \u001b[0;36mWebElement._execute\u001b[0;34m(self, command, params)\u001b[0m\n\u001b[1;32m    408\u001b[0m     params \u001b[38;5;241m=\u001b[39m {}\n\u001b[1;32m    409\u001b[0m params[\u001b[38;5;124m\"\u001b[39m\u001b[38;5;124mid\u001b[39m\u001b[38;5;124m\"\u001b[39m] \u001b[38;5;241m=\u001b[39m \u001b[38;5;28mself\u001b[39m\u001b[38;5;241m.\u001b[39m_id\n\u001b[0;32m--> 410\u001b[0m \u001b[38;5;28;01mreturn\u001b[39;00m \u001b[38;5;28;43mself\u001b[39;49m\u001b[38;5;241;43m.\u001b[39;49m\u001b[43m_parent\u001b[49m\u001b[38;5;241;43m.\u001b[39;49m\u001b[43mexecute\u001b[49m\u001b[43m(\u001b[49m\u001b[43mcommand\u001b[49m\u001b[43m,\u001b[49m\u001b[43m \u001b[49m\u001b[43mparams\u001b[49m\u001b[43m)\u001b[49m\n",
      "File \u001b[0;32m~/.local/lib/python3.10/site-packages/selenium/webdriver/remote/webdriver.py:442\u001b[0m, in \u001b[0;36mWebDriver.execute\u001b[0;34m(self, driver_command, params)\u001b[0m\n\u001b[1;32m    439\u001b[0m     \u001b[38;5;28;01melif\u001b[39;00m \u001b[38;5;124m\"\u001b[39m\u001b[38;5;124msessionId\u001b[39m\u001b[38;5;124m\"\u001b[39m \u001b[38;5;129;01mnot\u001b[39;00m \u001b[38;5;129;01min\u001b[39;00m params:\n\u001b[1;32m    440\u001b[0m         params[\u001b[38;5;124m\"\u001b[39m\u001b[38;5;124msessionId\u001b[39m\u001b[38;5;124m\"\u001b[39m] \u001b[38;5;241m=\u001b[39m \u001b[38;5;28mself\u001b[39m\u001b[38;5;241m.\u001b[39msession_id\n\u001b[0;32m--> 442\u001b[0m response \u001b[38;5;241m=\u001b[39m \u001b[38;5;28;43mself\u001b[39;49m\u001b[38;5;241;43m.\u001b[39;49m\u001b[43mcommand_executor\u001b[49m\u001b[38;5;241;43m.\u001b[39;49m\u001b[43mexecute\u001b[49m\u001b[43m(\u001b[49m\u001b[43mdriver_command\u001b[49m\u001b[43m,\u001b[49m\u001b[43m \u001b[49m\u001b[43mparams\u001b[49m\u001b[43m)\u001b[49m\n\u001b[1;32m    443\u001b[0m \u001b[38;5;28;01mif\u001b[39;00m response:\n\u001b[1;32m    444\u001b[0m     \u001b[38;5;28mself\u001b[39m\u001b[38;5;241m.\u001b[39merror_handler\u001b[38;5;241m.\u001b[39mcheck_response(response)\n",
      "File \u001b[0;32m~/.local/lib/python3.10/site-packages/selenium/webdriver/remote/remote_connection.py:294\u001b[0m, in \u001b[0;36mRemoteConnection.execute\u001b[0;34m(self, command, params)\u001b[0m\n\u001b[1;32m    292\u001b[0m data \u001b[38;5;241m=\u001b[39m utils\u001b[38;5;241m.\u001b[39mdump_json(params)\n\u001b[1;32m    293\u001b[0m url \u001b[38;5;241m=\u001b[39m \u001b[38;5;124mf\u001b[39m\u001b[38;5;124m\"\u001b[39m\u001b[38;5;132;01m{\u001b[39;00m\u001b[38;5;28mself\u001b[39m\u001b[38;5;241m.\u001b[39m_url\u001b[38;5;132;01m}\u001b[39;00m\u001b[38;5;132;01m{\u001b[39;00mpath\u001b[38;5;132;01m}\u001b[39;00m\u001b[38;5;124m\"\u001b[39m\n\u001b[0;32m--> 294\u001b[0m \u001b[38;5;28;01mreturn\u001b[39;00m \u001b[38;5;28;43mself\u001b[39;49m\u001b[38;5;241;43m.\u001b[39;49m\u001b[43m_request\u001b[49m\u001b[43m(\u001b[49m\u001b[43mcommand_info\u001b[49m\u001b[43m[\u001b[49m\u001b[38;5;241;43m0\u001b[39;49m\u001b[43m]\u001b[49m\u001b[43m,\u001b[49m\u001b[43m \u001b[49m\u001b[43murl\u001b[49m\u001b[43m,\u001b[49m\u001b[43m \u001b[49m\u001b[43mbody\u001b[49m\u001b[38;5;241;43m=\u001b[39;49m\u001b[43mdata\u001b[49m\u001b[43m)\u001b[49m\n",
      "File \u001b[0;32m~/.local/lib/python3.10/site-packages/selenium/webdriver/remote/remote_connection.py:316\u001b[0m, in \u001b[0;36mRemoteConnection._request\u001b[0;34m(self, method, url, body)\u001b[0m\n\u001b[1;32m    313\u001b[0m     body \u001b[38;5;241m=\u001b[39m \u001b[38;5;28;01mNone\u001b[39;00m\n\u001b[1;32m    315\u001b[0m \u001b[38;5;28;01mif\u001b[39;00m \u001b[38;5;28mself\u001b[39m\u001b[38;5;241m.\u001b[39mkeep_alive:\n\u001b[0;32m--> 316\u001b[0m     response \u001b[38;5;241m=\u001b[39m \u001b[38;5;28;43mself\u001b[39;49m\u001b[38;5;241;43m.\u001b[39;49m\u001b[43m_conn\u001b[49m\u001b[38;5;241;43m.\u001b[39;49m\u001b[43mrequest\u001b[49m\u001b[43m(\u001b[49m\u001b[43mmethod\u001b[49m\u001b[43m,\u001b[49m\u001b[43m \u001b[49m\u001b[43murl\u001b[49m\u001b[43m,\u001b[49m\u001b[43m \u001b[49m\u001b[43mbody\u001b[49m\u001b[38;5;241;43m=\u001b[39;49m\u001b[43mbody\u001b[49m\u001b[43m,\u001b[49m\u001b[43m \u001b[49m\u001b[43mheaders\u001b[49m\u001b[38;5;241;43m=\u001b[39;49m\u001b[43mheaders\u001b[49m\u001b[43m)\u001b[49m\n\u001b[1;32m    317\u001b[0m     statuscode \u001b[38;5;241m=\u001b[39m response\u001b[38;5;241m.\u001b[39mstatus\n\u001b[1;32m    318\u001b[0m \u001b[38;5;28;01melse\u001b[39;00m:\n",
      "File \u001b[0;32m/usr/lib/python3/dist-packages/urllib3/request.py:78\u001b[0m, in \u001b[0;36mRequestMethods.request\u001b[0;34m(self, method, url, fields, headers, **urlopen_kw)\u001b[0m\n\u001b[1;32m     74\u001b[0m     \u001b[38;5;28;01mreturn\u001b[39;00m \u001b[38;5;28mself\u001b[39m\u001b[38;5;241m.\u001b[39mrequest_encode_url(\n\u001b[1;32m     75\u001b[0m         method, url, fields\u001b[38;5;241m=\u001b[39mfields, headers\u001b[38;5;241m=\u001b[39mheaders, \u001b[38;5;241m*\u001b[39m\u001b[38;5;241m*\u001b[39murlopen_kw\n\u001b[1;32m     76\u001b[0m     )\n\u001b[1;32m     77\u001b[0m \u001b[38;5;28;01melse\u001b[39;00m:\n\u001b[0;32m---> 78\u001b[0m     \u001b[38;5;28;01mreturn\u001b[39;00m \u001b[38;5;28;43mself\u001b[39;49m\u001b[38;5;241;43m.\u001b[39;49m\u001b[43mrequest_encode_body\u001b[49m\u001b[43m(\u001b[49m\n\u001b[1;32m     79\u001b[0m \u001b[43m        \u001b[49m\u001b[43mmethod\u001b[49m\u001b[43m,\u001b[49m\u001b[43m \u001b[49m\u001b[43murl\u001b[49m\u001b[43m,\u001b[49m\u001b[43m \u001b[49m\u001b[43mfields\u001b[49m\u001b[38;5;241;43m=\u001b[39;49m\u001b[43mfields\u001b[49m\u001b[43m,\u001b[49m\u001b[43m \u001b[49m\u001b[43mheaders\u001b[49m\u001b[38;5;241;43m=\u001b[39;49m\u001b[43mheaders\u001b[49m\u001b[43m,\u001b[49m\u001b[43m \u001b[49m\u001b[38;5;241;43m*\u001b[39;49m\u001b[38;5;241;43m*\u001b[39;49m\u001b[43murlopen_kw\u001b[49m\n\u001b[1;32m     80\u001b[0m \u001b[43m    \u001b[49m\u001b[43m)\u001b[49m\n",
      "File \u001b[0;32m/usr/lib/python3/dist-packages/urllib3/request.py:170\u001b[0m, in \u001b[0;36mRequestMethods.request_encode_body\u001b[0;34m(self, method, url, fields, headers, encode_multipart, multipart_boundary, **urlopen_kw)\u001b[0m\n\u001b[1;32m    167\u001b[0m extra_kw[\u001b[38;5;124m\"\u001b[39m\u001b[38;5;124mheaders\u001b[39m\u001b[38;5;124m\"\u001b[39m]\u001b[38;5;241m.\u001b[39mupdate(headers)\n\u001b[1;32m    168\u001b[0m extra_kw\u001b[38;5;241m.\u001b[39mupdate(urlopen_kw)\n\u001b[0;32m--> 170\u001b[0m \u001b[38;5;28;01mreturn\u001b[39;00m \u001b[38;5;28;43mself\u001b[39;49m\u001b[38;5;241;43m.\u001b[39;49m\u001b[43murlopen\u001b[49m\u001b[43m(\u001b[49m\u001b[43mmethod\u001b[49m\u001b[43m,\u001b[49m\u001b[43m \u001b[49m\u001b[43murl\u001b[49m\u001b[43m,\u001b[49m\u001b[43m \u001b[49m\u001b[38;5;241;43m*\u001b[39;49m\u001b[38;5;241;43m*\u001b[39;49m\u001b[43mextra_kw\u001b[49m\u001b[43m)\u001b[49m\n",
      "File \u001b[0;32m/usr/lib/python3/dist-packages/urllib3/poolmanager.py:375\u001b[0m, in \u001b[0;36mPoolManager.urlopen\u001b[0;34m(self, method, url, redirect, **kw)\u001b[0m\n\u001b[1;32m    373\u001b[0m     response \u001b[38;5;241m=\u001b[39m conn\u001b[38;5;241m.\u001b[39murlopen(method, url, \u001b[38;5;241m*\u001b[39m\u001b[38;5;241m*\u001b[39mkw)\n\u001b[1;32m    374\u001b[0m \u001b[38;5;28;01melse\u001b[39;00m:\n\u001b[0;32m--> 375\u001b[0m     response \u001b[38;5;241m=\u001b[39m \u001b[43mconn\u001b[49m\u001b[38;5;241;43m.\u001b[39;49m\u001b[43murlopen\u001b[49m\u001b[43m(\u001b[49m\u001b[43mmethod\u001b[49m\u001b[43m,\u001b[49m\u001b[43m \u001b[49m\u001b[43mu\u001b[49m\u001b[38;5;241;43m.\u001b[39;49m\u001b[43mrequest_uri\u001b[49m\u001b[43m,\u001b[49m\u001b[43m \u001b[49m\u001b[38;5;241;43m*\u001b[39;49m\u001b[38;5;241;43m*\u001b[39;49m\u001b[43mkw\u001b[49m\u001b[43m)\u001b[49m\n\u001b[1;32m    377\u001b[0m redirect_location \u001b[38;5;241m=\u001b[39m redirect \u001b[38;5;129;01mand\u001b[39;00m response\u001b[38;5;241m.\u001b[39mget_redirect_location()\n\u001b[1;32m    378\u001b[0m \u001b[38;5;28;01mif\u001b[39;00m \u001b[38;5;129;01mnot\u001b[39;00m redirect_location:\n",
      "File \u001b[0;32m/usr/lib/python3/dist-packages/urllib3/connectionpool.py:700\u001b[0m, in \u001b[0;36mHTTPConnectionPool.urlopen\u001b[0;34m(self, method, url, body, headers, retries, redirect, assert_same_host, timeout, pool_timeout, release_conn, chunked, body_pos, **response_kw)\u001b[0m\n\u001b[1;32m    697\u001b[0m     \u001b[38;5;28mself\u001b[39m\u001b[38;5;241m.\u001b[39m_prepare_proxy(conn)\n\u001b[1;32m    699\u001b[0m \u001b[38;5;66;03m# Make the request on the httplib connection object.\u001b[39;00m\n\u001b[0;32m--> 700\u001b[0m httplib_response \u001b[38;5;241m=\u001b[39m \u001b[38;5;28;43mself\u001b[39;49m\u001b[38;5;241;43m.\u001b[39;49m\u001b[43m_make_request\u001b[49m\u001b[43m(\u001b[49m\n\u001b[1;32m    701\u001b[0m \u001b[43m    \u001b[49m\u001b[43mconn\u001b[49m\u001b[43m,\u001b[49m\n\u001b[1;32m    702\u001b[0m \u001b[43m    \u001b[49m\u001b[43mmethod\u001b[49m\u001b[43m,\u001b[49m\n\u001b[1;32m    703\u001b[0m \u001b[43m    \u001b[49m\u001b[43murl\u001b[49m\u001b[43m,\u001b[49m\n\u001b[1;32m    704\u001b[0m \u001b[43m    \u001b[49m\u001b[43mtimeout\u001b[49m\u001b[38;5;241;43m=\u001b[39;49m\u001b[43mtimeout_obj\u001b[49m\u001b[43m,\u001b[49m\n\u001b[1;32m    705\u001b[0m \u001b[43m    \u001b[49m\u001b[43mbody\u001b[49m\u001b[38;5;241;43m=\u001b[39;49m\u001b[43mbody\u001b[49m\u001b[43m,\u001b[49m\n\u001b[1;32m    706\u001b[0m \u001b[43m    \u001b[49m\u001b[43mheaders\u001b[49m\u001b[38;5;241;43m=\u001b[39;49m\u001b[43mheaders\u001b[49m\u001b[43m,\u001b[49m\n\u001b[1;32m    707\u001b[0m \u001b[43m    \u001b[49m\u001b[43mchunked\u001b[49m\u001b[38;5;241;43m=\u001b[39;49m\u001b[43mchunked\u001b[49m\u001b[43m,\u001b[49m\n\u001b[1;32m    708\u001b[0m \u001b[43m\u001b[49m\u001b[43m)\u001b[49m\n\u001b[1;32m    710\u001b[0m \u001b[38;5;66;03m# If we're going to release the connection in ``finally:``, then\u001b[39;00m\n\u001b[1;32m    711\u001b[0m \u001b[38;5;66;03m# the response doesn't need to know about the connection. Otherwise\u001b[39;00m\n\u001b[1;32m    712\u001b[0m \u001b[38;5;66;03m# it will also try to release it and we'll have a double-release\u001b[39;00m\n\u001b[1;32m    713\u001b[0m \u001b[38;5;66;03m# mess.\u001b[39;00m\n\u001b[1;32m    714\u001b[0m response_conn \u001b[38;5;241m=\u001b[39m conn \u001b[38;5;28;01mif\u001b[39;00m \u001b[38;5;129;01mnot\u001b[39;00m release_conn \u001b[38;5;28;01melse\u001b[39;00m \u001b[38;5;28;01mNone\u001b[39;00m\n",
      "File \u001b[0;32m/usr/lib/python3/dist-packages/urllib3/connectionpool.py:446\u001b[0m, in \u001b[0;36mHTTPConnectionPool._make_request\u001b[0;34m(self, conn, method, url, timeout, chunked, **httplib_request_kw)\u001b[0m\n\u001b[1;32m    441\u001b[0m             httplib_response \u001b[38;5;241m=\u001b[39m conn\u001b[38;5;241m.\u001b[39mgetresponse()\n\u001b[1;32m    442\u001b[0m         \u001b[38;5;28;01mexcept\u001b[39;00m \u001b[38;5;167;01mBaseException\u001b[39;00m \u001b[38;5;28;01mas\u001b[39;00m e:\n\u001b[1;32m    443\u001b[0m             \u001b[38;5;66;03m# Remove the TypeError from the exception chain in\u001b[39;00m\n\u001b[1;32m    444\u001b[0m             \u001b[38;5;66;03m# Python 3 (including for exceptions like SystemExit).\u001b[39;00m\n\u001b[1;32m    445\u001b[0m             \u001b[38;5;66;03m# Otherwise it looks like a bug in the code.\u001b[39;00m\n\u001b[0;32m--> 446\u001b[0m             \u001b[43msix\u001b[49m\u001b[38;5;241;43m.\u001b[39;49m\u001b[43mraise_from\u001b[49m\u001b[43m(\u001b[49m\u001b[43me\u001b[49m\u001b[43m,\u001b[49m\u001b[43m \u001b[49m\u001b[38;5;28;43;01mNone\u001b[39;49;00m\u001b[43m)\u001b[49m\n\u001b[1;32m    447\u001b[0m \u001b[38;5;28;01mexcept\u001b[39;00m (SocketTimeout, BaseSSLError, SocketError) \u001b[38;5;28;01mas\u001b[39;00m e:\n\u001b[1;32m    448\u001b[0m     \u001b[38;5;28mself\u001b[39m\u001b[38;5;241m.\u001b[39m_raise_timeout(err\u001b[38;5;241m=\u001b[39me, url\u001b[38;5;241m=\u001b[39murl, timeout_value\u001b[38;5;241m=\u001b[39mread_timeout)\n",
      "File \u001b[0;32m<string>:3\u001b[0m, in \u001b[0;36mraise_from\u001b[0;34m(value, from_value)\u001b[0m\n",
      "File \u001b[0;32m/usr/lib/python3/dist-packages/urllib3/connectionpool.py:441\u001b[0m, in \u001b[0;36mHTTPConnectionPool._make_request\u001b[0;34m(self, conn, method, url, timeout, chunked, **httplib_request_kw)\u001b[0m\n\u001b[1;32m    438\u001b[0m \u001b[38;5;28;01mexcept\u001b[39;00m \u001b[38;5;167;01mTypeError\u001b[39;00m:\n\u001b[1;32m    439\u001b[0m     \u001b[38;5;66;03m# Python 3\u001b[39;00m\n\u001b[1;32m    440\u001b[0m     \u001b[38;5;28;01mtry\u001b[39;00m:\n\u001b[0;32m--> 441\u001b[0m         httplib_response \u001b[38;5;241m=\u001b[39m \u001b[43mconn\u001b[49m\u001b[38;5;241;43m.\u001b[39;49m\u001b[43mgetresponse\u001b[49m\u001b[43m(\u001b[49m\u001b[43m)\u001b[49m\n\u001b[1;32m    442\u001b[0m     \u001b[38;5;28;01mexcept\u001b[39;00m \u001b[38;5;167;01mBaseException\u001b[39;00m \u001b[38;5;28;01mas\u001b[39;00m e:\n\u001b[1;32m    443\u001b[0m         \u001b[38;5;66;03m# Remove the TypeError from the exception chain in\u001b[39;00m\n\u001b[1;32m    444\u001b[0m         \u001b[38;5;66;03m# Python 3 (including for exceptions like SystemExit).\u001b[39;00m\n\u001b[1;32m    445\u001b[0m         \u001b[38;5;66;03m# Otherwise it looks like a bug in the code.\u001b[39;00m\n\u001b[1;32m    446\u001b[0m         six\u001b[38;5;241m.\u001b[39mraise_from(e, \u001b[38;5;28;01mNone\u001b[39;00m)\n",
      "File \u001b[0;32m/usr/lib/python3.10/http/client.py:1375\u001b[0m, in \u001b[0;36mHTTPConnection.getresponse\u001b[0;34m(self)\u001b[0m\n\u001b[1;32m   1373\u001b[0m \u001b[38;5;28;01mtry\u001b[39;00m:\n\u001b[1;32m   1374\u001b[0m     \u001b[38;5;28;01mtry\u001b[39;00m:\n\u001b[0;32m-> 1375\u001b[0m         \u001b[43mresponse\u001b[49m\u001b[38;5;241;43m.\u001b[39;49m\u001b[43mbegin\u001b[49m\u001b[43m(\u001b[49m\u001b[43m)\u001b[49m\n\u001b[1;32m   1376\u001b[0m     \u001b[38;5;28;01mexcept\u001b[39;00m \u001b[38;5;167;01mConnectionError\u001b[39;00m:\n\u001b[1;32m   1377\u001b[0m         \u001b[38;5;28mself\u001b[39m\u001b[38;5;241m.\u001b[39mclose()\n",
      "File \u001b[0;32m/usr/lib/python3.10/http/client.py:318\u001b[0m, in \u001b[0;36mHTTPResponse.begin\u001b[0;34m(self)\u001b[0m\n\u001b[1;32m    316\u001b[0m \u001b[38;5;66;03m# read until we get a non-100 response\u001b[39;00m\n\u001b[1;32m    317\u001b[0m \u001b[38;5;28;01mwhile\u001b[39;00m \u001b[38;5;28;01mTrue\u001b[39;00m:\n\u001b[0;32m--> 318\u001b[0m     version, status, reason \u001b[38;5;241m=\u001b[39m \u001b[38;5;28;43mself\u001b[39;49m\u001b[38;5;241;43m.\u001b[39;49m\u001b[43m_read_status\u001b[49m\u001b[43m(\u001b[49m\u001b[43m)\u001b[49m\n\u001b[1;32m    319\u001b[0m     \u001b[38;5;28;01mif\u001b[39;00m status \u001b[38;5;241m!=\u001b[39m CONTINUE:\n\u001b[1;32m    320\u001b[0m         \u001b[38;5;28;01mbreak\u001b[39;00m\n",
      "File \u001b[0;32m/usr/lib/python3.10/http/client.py:279\u001b[0m, in \u001b[0;36mHTTPResponse._read_status\u001b[0;34m(self)\u001b[0m\n\u001b[1;32m    278\u001b[0m \u001b[38;5;28;01mdef\u001b[39;00m \u001b[38;5;21m_read_status\u001b[39m(\u001b[38;5;28mself\u001b[39m):\n\u001b[0;32m--> 279\u001b[0m     line \u001b[38;5;241m=\u001b[39m \u001b[38;5;28mstr\u001b[39m(\u001b[38;5;28;43mself\u001b[39;49m\u001b[38;5;241;43m.\u001b[39;49m\u001b[43mfp\u001b[49m\u001b[38;5;241;43m.\u001b[39;49m\u001b[43mreadline\u001b[49m\u001b[43m(\u001b[49m\u001b[43m_MAXLINE\u001b[49m\u001b[43m \u001b[49m\u001b[38;5;241;43m+\u001b[39;49m\u001b[43m \u001b[49m\u001b[38;5;241;43m1\u001b[39;49m\u001b[43m)\u001b[49m, \u001b[38;5;124m\"\u001b[39m\u001b[38;5;124miso-8859-1\u001b[39m\u001b[38;5;124m\"\u001b[39m)\n\u001b[1;32m    280\u001b[0m     \u001b[38;5;28;01mif\u001b[39;00m \u001b[38;5;28mlen\u001b[39m(line) \u001b[38;5;241m>\u001b[39m _MAXLINE:\n\u001b[1;32m    281\u001b[0m         \u001b[38;5;28;01mraise\u001b[39;00m LineTooLong(\u001b[38;5;124m\"\u001b[39m\u001b[38;5;124mstatus line\u001b[39m\u001b[38;5;124m\"\u001b[39m)\n",
      "File \u001b[0;32m/usr/lib/python3.10/socket.py:705\u001b[0m, in \u001b[0;36mSocketIO.readinto\u001b[0;34m(self, b)\u001b[0m\n\u001b[1;32m    703\u001b[0m \u001b[38;5;28;01mwhile\u001b[39;00m \u001b[38;5;28;01mTrue\u001b[39;00m:\n\u001b[1;32m    704\u001b[0m     \u001b[38;5;28;01mtry\u001b[39;00m:\n\u001b[0;32m--> 705\u001b[0m         \u001b[38;5;28;01mreturn\u001b[39;00m \u001b[38;5;28;43mself\u001b[39;49m\u001b[38;5;241;43m.\u001b[39;49m\u001b[43m_sock\u001b[49m\u001b[38;5;241;43m.\u001b[39;49m\u001b[43mrecv_into\u001b[49m\u001b[43m(\u001b[49m\u001b[43mb\u001b[49m\u001b[43m)\u001b[49m\n\u001b[1;32m    706\u001b[0m     \u001b[38;5;28;01mexcept\u001b[39;00m timeout:\n\u001b[1;32m    707\u001b[0m         \u001b[38;5;28mself\u001b[39m\u001b[38;5;241m.\u001b[39m_timeout_occurred \u001b[38;5;241m=\u001b[39m \u001b[38;5;28;01mTrue\u001b[39;00m\n",
      "\u001b[0;31mKeyboardInterrupt\u001b[0m: "
     ]
    }
   ],
   "source": [
    "# get to the All Schedule Entries\n",
    "browser.get(URL_MODULE)\n",
    "\n",
    "NO_TEAMS = len(browser.find_elements(By.XPATH, r\"//*[contains(text(),'Training') and @class='v-list-item__title']\"))\n",
    "\n",
    "print(\"Number of teams to update (in page):\", NO_TEAMS)\n",
    "\n",
    "for i in range(NO_TEAMS):\n",
    "    browser.get(URL_MODULE)\n",
    "\n",
    "    time.sleep(3)\n",
    "\n",
    "    # get the button of all the training schedules in the screen (listed with names \"U08 Mixed Gold Training\")\n",
    "    buttons = browser.find_elements(By.XPATH, r\"//*[contains(text(),'Training') and @class='v-list-item__title']\")\n",
    "    schedule_title = buttons[i].text\n",
    "    print(f\"Schedule to edit {i}:\", schedule_title)\n",
    "    buttons[i].click()\n",
    "\n",
    "    time.sleep(2)\n",
    "\n",
    "    # click options three dots button (top-right)\n",
    "    buttons = browser.find_elements(By.XPATH, '//*[contains(text(), \"more_vert\")]')\n",
    "    buttons[0].click()\n",
    "\n",
    "    # now EDIT schedule!\n",
    "    buttons = browser.find_elements(By.XPATH, \"//*[contains(text(),'Edit') and @class='v-list-item__title']\")\n",
    "    # report_elements(browser, \"//*[contains(text(),'Edit')]\")\n",
    "    buttons[0].click()\n",
    "\n",
    "    time.sleep(2)\n",
    "    # select Every week in Recurring (may fail if already recurrent!)\n",
    "    try:\n",
    "        buttons = browser.find_elements(By.XPATH, \"//*[contains(text(),'Every week')]\")\n",
    "        buttons[0].click()\n",
    "    except IndexError:\n",
    "        print(\"\\t Team already recurrent!\", schedule_title)\n",
    "        continue\n",
    "\n",
    "    # click recurring ends to open calendar\n",
    "    buttons = browser.find_elements(By.XPATH, \"//*[contains(text(),'Recurring Ends')]\")\n",
    "    buttons[0].click()\n",
    "\n",
    "\n",
    "    # one month before to september 2024\n",
    "    buttons = browser.find_elements(By.XPATH, '//i[contains(@class, \"mdi-chevron-left\")]')\n",
    "    buttons[0].click()\n",
    "\n",
    "    time.sleep(0.5)\n",
    "\n",
    "    # select & click day 21\n",
    "    buttons = browser.find_elements(By.XPATH, \"//*[text() = '21']\")\n",
    "    buttons[0].click()\n",
    "\n",
    "    time.sleep(0.5)\n",
    "\n",
    "    # click OK\n",
    "    buttons = browser.find_elements(By.XPATH, \"//*[contains(text(), 'OK') and contains(@class, 'v-btn__content')]\")\n",
    "    buttons[0].click()\n",
    "\n",
    "    # click SAVE\n",
    "    buttons = browser.find_elements(By.XPATH, \"//*[contains(text(), 'Save') and contains(@class, 'v-btn__content')]\")\n",
    "    buttons[0].click()\n",
    "\n",
    "    print(\"\\t Team saved!\", schedule_title)\n",
    "\n",
    "    # wait 3 seconds for next schedule\n",
    "    time.sleep(3)\n"
   ]
  }
 ],
 "metadata": {
  "kernelspec": {
   "display_name": "Python 3",
   "language": "python",
   "name": "python3"
  },
  "language_info": {
   "codemirror_mode": {
    "name": "ipython",
    "version": 3
   },
   "file_extension": ".py",
   "mimetype": "text/x-python",
   "name": "python",
   "nbconvert_exporter": "python",
   "pygments_lexer": "ipython3",
   "version": "3.10.12"
  }
 },
 "nbformat": 4,
 "nbformat_minor": 2
}
