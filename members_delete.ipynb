{
 "cells": [
  {
   "cell_type": "markdown",
   "metadata": {},
   "source": [
    "# Bulk Delete of Members in TeamApp\n",
    "\n",
    "This robot notebook deletes a set of members from the club's TeamApp. This is used to delete all members that are not part of the new season.\n",
    "\n",
    "[![https://www.youtube.com/watch?v=0pYoiOhjskY](https://img.youtube.com/vi/0pYoiOhjskY/0.jpg)](https://www.youtube.com/watch?v=0pYoiOhjskY)"
   ]
  },
  {
   "cell_type": "code",
   "execution_count": 1,
   "metadata": {},
   "outputs": [],
   "source": [
    "import re\n",
    "\n",
    "# Download geckodriver (https://github.com/mozilla/geckodriver/releases) and put it in path\n",
    "# Salenium webdriver: https://www.selenium.dev/documentation/overview/\n",
    "from selenium import webdriver\n",
    "from selenium.webdriver.firefox.options import Options\n",
    "from selenium.webdriver.firefox.service import Service\n",
    "from selenium.webdriver.common.by import By"
   ]
  },
  {
   "cell_type": "markdown",
   "metadata": {},
   "source": [
    "## Create Virtual Browser\n",
    "\n",
    "Create a firefox instance using an existing profile that MUST be logged into TeamApp.\n",
    "\n",
    "Set the following variables and in particular `FIREFOX_PROFILE_PATH` to the existing Firefox profile that is already logged into the club's TeamApp."
   ]
  },
  {
   "cell_type": "code",
   "execution_count": 2,
   "metadata": {},
   "outputs": [],
   "source": [
    "# URL of the club's TeamApp\n",
    "URL_TEAMAPP = \"https://brunswickmagicbasketball.teamapp.com\"\n",
    "\n",
    "# Folder with the firefox profile to be used\n",
    "FIREFOX_PROFILE_PATH = '/home/ssardina/.mozilla/firefox/88weweww.ssardina'\n",
    "\n",
    "GECKODRIVER_PATH = '/home/ssardina/bin/geckodriver'"
   ]
  },
  {
   "cell_type": "code",
   "execution_count": null,
   "metadata": {},
   "outputs": [],
   "source": [
    "URL_CHATS = f\"{URL_TEAMAPP}/rooms?_list=v1\"\n",
    "\n",
    "# firefox profile of user already logged in teamapp\n",
    "\n",
    "options = Options()\n",
    "# options.headless = True\n",
    "options.page_load_strategy = 'eager'\n",
    "options.set_preference('profile', FIREFOX_PROFILE_PATH)\n",
    "\n",
    "# https://github.com/SeleniumHQ/selenium/issues/11028\n",
    "# use an existing firefox profile (must be logged in teamapps already!)\n",
    "options.add_argument(\"-profile\")\n",
    "options.add_argument(FIREFOX_PROFILE_PATH)\n",
    "\n",
    "service = None\n",
    "# service = Service(GECKODRIVER_PATH)\n",
    "\n",
    "if service is not None:\n",
    "    browser = webdriver.Firefox(service=service, options=options)\n",
    "else:\n",
    "    browser = webdriver.Firefox(options=options)\n",
    "# browser.maximize_window()\n",
    "\n",
    "browser.get(URL_CHATS)\n",
    "\n",
    "# browser.quit()\n"
   ]
  },
  {
   "cell_type": "markdown",
   "metadata": {},
   "source": [
    "In case you want to close it:"
   ]
  },
  {
   "cell_type": "code",
   "execution_count": null,
   "metadata": {},
   "outputs": [],
   "source": [
    "browser.quit()"
   ]
  },
  {
   "cell_type": "markdown",
   "metadata": {},
   "source": [
    "# Test delete on member\n",
    "\n",
    "We start by retrieving the member card:"
   ]
  },
  {
   "cell_type": "code",
   "execution_count": null,
   "metadata": {},
   "outputs": [],
   "source": [
    "member = 12240523\n",
    "\n",
    "browser.get(f\"{URL_MEMBERS}/{member}\")\n",
    "\n",
    "if browser.title == \"Page Not Found\":\n",
    "    print(\"Member not found!\")\n"
   ]
  },
  {
   "cell_type": "markdown",
   "metadata": {},
   "source": [
    "Get the **Advance Option** three dot button at the top-right. The `XPATH` was found by inspecting the DOM. \n",
    "\n",
    "This will give an object of [selenium.webdriver.remote.webelement.WebElement](https://www.selenium.dev/selenium/docs/api/py/webdriver_remote/selenium.webdriver.remote.webelement.html).\n",
    "\n",
    "For this button, we search via its fixed `XPATH`: https://selenium-python.readthedocs.io/locating-elements.html\n"
   ]
  },
  {
   "cell_type": "markdown",
   "metadata": {},
   "source": [
    "## 1. Click Advanced Options button\n",
    "\n",
    "![](members_01.png)"
   ]
  },
  {
   "cell_type": "code",
   "execution_count": null,
   "metadata": {},
   "outputs": [],
   "source": [
    "# click the Advanced Options button (three dots top right of member)\n",
    "button_options_xpath = \"/html/body/div[1]/div[1]/main/div/div[2]/div/header/div/span[2]/button\"\n",
    "\n",
    "button_options = browser.find_elements(by=By.XPATH, value=button_options_xpath)[0]\n",
    "print(button_options)"
   ]
  },
  {
   "cell_type": "markdown",
   "metadata": {},
   "source": [
    "Now click it to open options"
   ]
  },
  {
   "cell_type": "code",
   "execution_count": null,
   "metadata": {},
   "outputs": [],
   "source": [
    "button_options.click()"
   ]
  },
  {
   "cell_type": "markdown",
   "metadata": {},
   "source": [
    "## 2. Click Delete button\n",
    "\n",
    "![](members_02.png)"
   ]
  },
  {
   "cell_type": "markdown",
   "metadata": {},
   "source": [
    "Next, find the `Delete` button and click it!"
   ]
  },
  {
   "cell_type": "code",
   "execution_count": null,
   "metadata": {},
   "outputs": [],
   "source": [
    "button_delete = None\n",
    "for x in browser.find_elements(By.XPATH, \"//*[contains(text(),'Delete')]\"):\n",
    "    if x.text == \"Delete\":\n",
    "        button_delete = x\n",
    "        break\n",
    "\n",
    "if button_delete is not None:\n",
    "    print(\"Delete button found!\")"
   ]
  },
  {
   "cell_type": "code",
   "execution_count": null,
   "metadata": {},
   "outputs": [],
   "source": [
    "button_delete.click()"
   ]
  },
  {
   "cell_type": "markdown",
   "metadata": {},
   "source": [
    "## 3. Confirm Delete\n",
    "\n",
    "![confirm delete](members_03.png)"
   ]
  },
  {
   "cell_type": "code",
   "execution_count": null,
   "metadata": {},
   "outputs": [],
   "source": [
    "button_confirm = None\n",
    "for x in browser.find_elements(By.XPATH, \"//*[contains(text(),'Delete')]\"):\n",
    "    print(x, x.text, x.get_attribute(\"class\"), x.get_dom_attribute(\"class\"))\n",
    "    if x.text == \"Delete\" and x.get_attribute(\"class\") == \"v-btn__content\":\n",
    "        button_confirm = x\n",
    "        break\n",
    "\n",
    "if button_confirm is not None:\n",
    "    print(\"Delete button found!\")"
   ]
  },
  {
   "cell_type": "code",
   "execution_count": null,
   "metadata": {},
   "outputs": [],
   "source": [
    "button_confirm.click()"
   ]
  },
  {
   "cell_type": "markdown",
   "metadata": {},
   "source": [
    "# Bulk delete members\n"
   ]
  },
  {
   "cell_type": "markdown",
   "metadata": {},
   "source": []
  },
  {
   "cell_type": "code",
   "execution_count": null,
   "metadata": {},
   "outputs": [],
   "source": [
    "import time\n",
    "\n",
    "members_all = [19789861,19789799,19789802,16550015,19789815,18623151,18703651,19789813,19867371,20967657,15002114,20251630,14631329,15169318,18764760,19789826,18623102,14605074,15169298,18623101,12456533,19789836,19789845,18758834,19789800,19789848,16296663,19252320,16296667,19789858,12240512,19789882,8995680,19789866,19789849,18623123,12240511,19789871,19789894,18703652,19789859,15215223,19789801,18623120,19928890,19928889,18623122,5767257,19841627,16309428,20251631,12240523,19789820,18623103,19928891,19841630,16296664,19789880,19811367,19841631,16352517,19789837,19789850,16352518,12240524,19789838,19789804,19811150,19789892,18623150,16296665,14605072,19789872,19789846,15214993,19811149,19789881,18623121,19789883,19811368,19789814,19789950,19789847,16296668,19867366,16352523,15002120,19789949,19789951,16352522,19811366,19789952,19789807,19789827,13319754,19789893,16352521,18623149,18623152]\n",
    "\n",
    "print(len(members_all))"
   ]
  },
  {
   "cell_type": "code",
   "execution_count": null,
   "metadata": {},
   "outputs": [],
   "source": [
    "members = members_all[28:]\n",
    "\n",
    "print(f\"About to delete {len(members)} members:\", members)\n",
    "\n",
    "deleted = []\n",
    "for m in members:\n",
    "    url_member = f\"{URL_MEMBERS}/{m}\"\n",
    "    print(\"Processing member:\", m,  url_member)\n",
    "    browser.get(url_member)\n",
    "\n",
    "    if browser.title == \"Page Not Found\":\n",
    "        print(\"\\t Member not found!\")\n",
    "        continue\n",
    "\n",
    "    # click the Advanced Options button (three dots top right of member)\n",
    "    print(\"\\t Clicking advanced option button...\")\n",
    "    button_options_xpath = \"/html/body/div[1]/div[1]/main/div/div[2]/div/header/div/span[2]/button\"\n",
    "\n",
    "    button_options = browser.find_elements(by=By.XPATH, value=button_options_xpath)[0]\n",
    "    button_options.click()\n",
    "\n",
    "\n",
    "    print(\"\\t Find and click Delete button...\")\n",
    "    button_delete = None\n",
    "    for x in browser.find_elements(By.XPATH, \"//*[contains(text(),'Delete')]\"):\n",
    "        if x.text == \"Delete\":\n",
    "            button_delete = x\n",
    "            break\n",
    "    if button_delete is None:\n",
    "        print(\"\\t Delete button NOT found!\")\n",
    "        continue\n",
    "    button_delete.click()\n",
    "\n",
    "    print(\"\\t Confirm delete...\")\n",
    "    button_confirm = None\n",
    "    for x in browser.find_elements(By.XPATH, \"//*[contains(text(),'Delete')]\"):\n",
    "        if x.text == \"Delete\" and x.get_attribute(\"class\") == \"v-btn__content\":\n",
    "            button_confirm = x\n",
    "            break\n",
    "\n",
    "    if button_confirm is None:\n",
    "        print(\"\\t Delete confirm button NOT found!\")\n",
    "        continue\n",
    "\n",
    "    button_confirm.click()\n",
    "    deleted.append(m)\n",
    "    time.sleep(2)\n",
    "\n",
    "\n",
    "\n",
    "\n",
    "not_deleted = [x for x in members_all if x not in deleted]\n",
    "print(f\"Deleted members ({len(deleted)}):\", deleted)\n",
    "print(f\"Not deleted members ({len(not_deleted)}):\", not_deleted)\n"
   ]
  },
  {
   "cell_type": "code",
   "execution_count": null,
   "metadata": {},
   "outputs": [],
   "source": [
    "browser.quit()"
   ]
  },
  {
   "cell_type": "markdown",
   "metadata": {},
   "source": [
    "## Playground"
   ]
  },
  {
   "cell_type": "code",
   "execution_count": null,
   "metadata": {},
   "outputs": [],
   "source": [
    "for x in browser.find_elements(By.XPATH, \"//*[contains(text(),'Delete')]\"):\n",
    "        if x.text == \"Delete\" and x.get_attribute(\"class\") == \"v-btn__content\":\n",
    "            button_confirm = x\n",
    "            break"
   ]
  }
 ],
 "metadata": {
  "kernelspec": {
   "display_name": "Python 3",
   "language": "python",
   "name": "python3"
  },
  "language_info": {
   "codemirror_mode": {
    "name": "ipython",
    "version": 3
   },
   "file_extension": ".py",
   "mimetype": "text/x-python",
   "name": "python",
   "nbconvert_exporter": "python",
   "pygments_lexer": "ipython3",
   "version": "3.10.12"
  }
 },
 "nbformat": 4,
 "nbformat_minor": 2
}
