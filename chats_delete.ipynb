{
 "cells": [
  {
   "cell_type": "markdown",
   "metadata": {},
   "source": [
    "# Bulk Delete of Chats in TeamApp\n",
    "\n",
    "Delete all chat rooms in a club. This is used to reset all chats at the start of the season. We remove all the existing chats because access groups will be reset with updated members for the new season and we don't want other people to have access to old chats and photos.\n",
    "\n",
    "[![https://youtu.be/EUdzLWBlLP8](https://img.youtube.com/vi/EUdzLWBlLP8/0.jpg)](https://www.youtube.com/watch?v=EUdzLWBlLP8)"
   ]
  },
  {
   "cell_type": "code",
   "execution_count": 1,
   "metadata": {},
   "outputs": [],
   "source": [
    "import re\n",
    "\n",
    "from selenium import webdriver\n",
    "from selenium.webdriver.firefox.options import Options\n",
    "from selenium.webdriver.firefox.service import Service\n",
    "from selenium.webdriver.common.by import By\n",
    "\n",
    "import time"
   ]
  },
  {
   "cell_type": "markdown",
   "metadata": {},
   "source": [
    "## Create Virtual Browser\n",
    "\n",
    "Create a firefox instance using an existing profile that MUST be logged into TeamApp.\n",
    "\n",
    "Set the following variables and in particular `FIREFOX_PROFILE_PATH` to the existing Firefox profile that is already logged into the club's TeamApp."
   ]
  },
  {
   "cell_type": "code",
   "execution_count": 3,
   "metadata": {},
   "outputs": [],
   "source": [
    "# URL of the club's TeamApp\n",
    "URL_TEAMAPP = \"https://brunswickmagicbasketball.teamapp.com\"\n",
    "\n",
    "# Folder with the firefox profile to be used\n",
    "FIREFOX_PROFILE_PATH = '/home/ssardina/.mozilla/firefox/88weweww.ssardina'\n",
    "\n",
    "GECKODRIVER_PATH = '/home/ssardina/bin/geckodriver'"
   ]
  },
  {
   "cell_type": "code",
   "execution_count": 7,
   "metadata": {},
   "outputs": [],
   "source": [
    "URL_CHATS = f\"{URL_TEAMAPP}/rooms?_list=v1\"\n",
    "\n",
    "# firefox profile of user already logged in teamapp\n",
    "\n",
    "options = Options()\n",
    "# options.headless = True\n",
    "options.page_load_strategy = 'eager'\n",
    "options.set_preference('profile', FIREFOX_PROFILE_PATH)\n",
    "\n",
    "# https://github.com/SeleniumHQ/selenium/issues/11028\n",
    "# use an existing firefox profile (must be logged in teamapps already!)\n",
    "options.add_argument(\"-profile\")\n",
    "options.add_argument(FIREFOX_PROFILE_PATH)\n",
    "\n",
    "service = None\n",
    "# service = Service(GECKODRIVER_PATH)\n",
    "\n",
    "if service is not None:\n",
    "    browser = webdriver.Firefox(service=service, options=options)\n",
    "else:\n",
    "    browser = webdriver.Firefox(options=options)\n",
    "# browser.maximize_window()\n",
    "\n",
    "browser.get(URL_CHATS)\n",
    "\n",
    "# browser.quit()\n"
   ]
  },
  {
   "cell_type": "markdown",
   "metadata": {},
   "source": [
    "In case you want to close it:"
   ]
  },
  {
   "cell_type": "code",
   "execution_count": null,
   "metadata": {},
   "outputs": [],
   "source": [
    "browser.quit()"
   ]
  },
  {
   "cell_type": "markdown",
   "metadata": {},
   "source": [
    "# Test delete one chat - step by step"
   ]
  },
  {
   "cell_type": "markdown",
   "metadata": {},
   "source": [
    "Get the **Advance Option** three dot button at the top-right. The `XPATH` was found by inspecting the DOM. \n",
    "\n",
    "This will give an object of [selenium.webdriver.remote.webelement.WebElement](https://www.selenium.dev/selenium/docs/api/py/webdriver_remote/selenium.webdriver.remote.webelement.html).\n",
    "\n",
    "For this button, we search via its fixed `XPATH`: https://selenium-python.readthedocs.io/locating-elements.html\n"
   ]
  },
  {
   "cell_type": "markdown",
   "metadata": {},
   "source": [
    "### 1. Click Options button\n",
    "\n",
    "![chat](chat_01.png)"
   ]
  },
  {
   "cell_type": "markdown",
   "metadata": {},
   "source": [
    "Find and click the three dots for the chat"
   ]
  },
  {
   "cell_type": "code",
   "execution_count": null,
   "metadata": {},
   "outputs": [],
   "source": [
    "button = browser.find_elements(By.CLASS_NAME, \"v-btn__content\")[35]"
   ]
  },
  {
   "cell_type": "code",
   "execution_count": null,
   "metadata": {},
   "outputs": [],
   "source": [
    "button.click()"
   ]
  },
  {
   "cell_type": "markdown",
   "metadata": {},
   "source": [
    "### 2. Click DELETE in the options\n",
    "\n",
    "![chat](chat_02.png)"
   ]
  },
  {
   "cell_type": "code",
   "execution_count": null,
   "metadata": {},
   "outputs": [],
   "source": [
    "for x in browser.find_elements(By.XPATH, \"//*[contains(text(),'Delete')]\"):\n",
    "    print(\"Found: \", x, x.text, x.get_attribute(\"class\"))\n",
    "\n",
    "    if x.text == \"Delete\":\n",
    "        button = x\n",
    "        break\n",
    "\n",
    "print(\"Found: \", button, button.text, button.get_attribute(\"class\"))\n"
   ]
  },
  {
   "cell_type": "code",
   "execution_count": null,
   "metadata": {},
   "outputs": [],
   "source": [
    "button.click()"
   ]
  },
  {
   "cell_type": "markdown",
   "metadata": {},
   "source": [
    "### 3. Confirm deletion\n",
    "\n",
    "![chat](chat_03.png)"
   ]
  },
  {
   "cell_type": "code",
   "execution_count": null,
   "metadata": {},
   "outputs": [],
   "source": [
    "for x in browser.find_elements(By.XPATH, \"//*[contains(text(),'Delete')]\"):\n",
    "    if x.text == \"Delete\":\n",
    "        button = x\n",
    "        break\n",
    "\n",
    "print(\"Found: \", button, button.text, button.get_attribute(\"class\"))"
   ]
  },
  {
   "cell_type": "code",
   "execution_count": null,
   "metadata": {},
   "outputs": [],
   "source": [
    "button.click()"
   ]
  },
  {
   "cell_type": "markdown",
   "metadata": {},
   "source": [
    "## Bulk Delete of all chats\n",
    "\n"
   ]
  },
  {
   "cell_type": "markdown",
   "metadata": {},
   "source": [
    "Next, find the `Delete` button and click it!"
   ]
  },
  {
   "cell_type": "code",
   "execution_count": null,
   "metadata": {},
   "outputs": [],
   "source": [
    "# this is the btn__content number of the option for the first chat (extracted manually try and error!)\n",
    "BUTTON_OPT_NO = 34\n",
    "\n",
    "no_deletes = 50\n",
    "\n",
    "for i in range(no_deletes):\n",
    "    # click options three dot button\n",
    "    button = browser.find_elements(By.CLASS_NAME, \"v-btn__content\")[BUTTON_OPT_NO]\n",
    "    button.click()\n",
    "\n",
    "    # click Delete option\n",
    "    button = None\n",
    "    for x in browser.find_elements(By.XPATH, \"//*[contains(text(),'Delete')]\"):\n",
    "        if x.text == \"Delete\":\n",
    "            button = x\n",
    "            break\n",
    "    if button is None:\n",
    "        print(f\"Couldn't find delete button {i}, stop..\")\n",
    "        break\n",
    "    button.click()\n",
    "\n",
    "    time.sleep(1)\n",
    "    # click Delete option confirmation\n",
    "    button = None\n",
    "    for x in browser.find_elements(By.XPATH, \"//*[contains(text(),'Delete')]\"):\n",
    "        if x.text == \"Delete\":\n",
    "            button = x\n",
    "            break\n",
    "\n",
    "    if button is None:\n",
    "        print(f\"Couldn't find confirmation delete button {i}, stop..\")\n",
    "        break\n",
    "    button.click()\n",
    "    print(f\"Chat no {i}/{no_deletes} deleted...\")\n",
    "    time.sleep(1)\n"
   ]
  },
  {
   "cell_type": "markdown",
   "metadata": {},
   "source": [
    "## Playground"
   ]
  },
  {
   "cell_type": "markdown",
   "metadata": {},
   "source": []
  }
 ],
 "metadata": {
  "kernelspec": {
   "display_name": "Python 3",
   "language": "python",
   "name": "python3"
  },
  "language_info": {
   "codemirror_mode": {
    "name": "ipython",
    "version": 3
   },
   "file_extension": ".py",
   "mimetype": "text/x-python",
   "name": "python",
   "nbconvert_exporter": "python",
   "pygments_lexer": "ipython3",
   "version": "3.10.12"
  }
 },
 "nbformat": 4,
 "nbformat_minor": 2
}
