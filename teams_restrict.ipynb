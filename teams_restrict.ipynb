{
 "cells": [
  {
   "cell_type": "markdown",
   "metadata": {},
   "source": [
    "# Restrict teams to their access groups\n",
    "\n",
    "This robot notebook deletes a set of members from the club's TeamApp. This is used to delete all members that are not part of the new season.\n",
    "\n",
    "Demo of bulk editing for recurring schedules: https://youtu.be/Co0hPJ_xdbc\n",
    "\n",
    "[![https://www.youtube.com/watch?v=Co0hPJ_xdbc](https://img.youtube.com/vi/Co0hPJ_xdbc/0.jpg)](https://www.youtube.com/watch?v=Co0hPJ_xdbc)"
   ]
  },
  {
   "cell_type": "code",
   "execution_count": null,
   "metadata": {},
   "outputs": [],
   "source": [
    "import time\n",
    "\n",
    "# Download geckodriver (https://github.com/mozilla/geckodriver/releases) and put it in path\n",
    "# Salenium webdriver: https://www.selenium.dev/documentation/overview/\n",
    "from selenium import webdriver\n",
    "from selenium.webdriver.firefox.options import Options\n",
    "from selenium.webdriver.firefox.service import Service\n",
    "from selenium.webdriver.common.by import By\n",
    "from selenium.webdriver.common.keys import Keys\n",
    "from selenium.webdriver.support.ui import Select\n"
   ]
  },
  {
   "cell_type": "code",
   "execution_count": null,
   "metadata": {},
   "outputs": [],
   "source": [
    "def report_element(e, i=\"\"):\n",
    "    print(i, e)\n",
    "    print(i, e.text)\n",
    "    print(i, e.get_attribute(\"class\"))\n",
    "    print(i, e.id)\n",
    "    print(i, e.tag_name)\n",
    "\n",
    "def report_elements(browser, search_string):    # get all the three dots edit options\n",
    "    print(search_string)\n",
    "    for i, button in enumerate(browser.find_elements(By.XPATH, search_string)):\n",
    "        report_element(button, i)\n",
    "        print()"
   ]
  },
  {
   "cell_type": "markdown",
   "metadata": {},
   "source": [
    "## Create Virtual Browser\n",
    "\n",
    "Create a firefox instance using an existing profile that MUST be logged into TeamApp.\n",
    "\n",
    "Set the following variables and in particular `FIREFOX_PROFILE_PATH` to the existing Firefox profile that is already logged into the club's TeamApp."
   ]
  },
  {
   "cell_type": "code",
   "execution_count": null,
   "metadata": {},
   "outputs": [],
   "source": [
    "# URL of the club's TeamApp\n",
    "URL_TEAMAPP = \"https://brunswickmagicbasketball.teamapp.com\"\n",
    "\n",
    "# Folder with the firefox profile to be used\n",
    "FIREFOX_PROFILE_PATH = '/home/ssardina/.mozilla/firefox/88weweww.ssardina'\n",
    "\n",
    "GECKODRIVER_PATH = '/home/ssardina/bin/geckodriver'\n",
    "\n",
    "URL_MODULE = f\"{URL_TEAMAPP}/teams?_list=v1\""
   ]
  },
  {
   "cell_type": "code",
   "execution_count": null,
   "metadata": {},
   "outputs": [],
   "source": [
    "# firefox profile of user already logged in teamapp\n",
    "\n",
    "options = Options()\n",
    "# options.headless = True\n",
    "options.page_load_strategy = 'eager'\n",
    "options.set_preference('profile', FIREFOX_PROFILE_PATH)\n",
    "\n",
    "# https://github.com/SeleniumHQ/selenium/issues/11028\n",
    "# use an existing firefox profile (must be logged in teamapps already!)\n",
    "options.add_argument(\"-profile\")\n",
    "options.add_argument(FIREFOX_PROFILE_PATH)\n",
    "\n",
    "service = None\n",
    "# service = Service(GECKODRIVER_PATH)\n",
    "\n",
    "if service is not None:\n",
    "    browser = webdriver.Firefox(service=service, options=options)\n",
    "else:\n",
    "    browser = webdriver.Firefox(options=options)\n",
    "# browser.maximize_window()\n",
    "\n",
    "browser.get(URL_MODULE)\n",
    "\n",
    "# browser.quit()\n"
   ]
  },
  {
   "cell_type": "markdown",
   "metadata": {},
   "source": [
    "In case you want to close it:"
   ]
  },
  {
   "cell_type": "code",
   "execution_count": null,
   "metadata": {},
   "outputs": [],
   "source": [
    "browser.quit()"
   ]
  },
  {
   "cell_type": "markdown",
   "metadata": {},
   "source": [
    "# Restrict one team access group\n",
    "\n",
    "We start by retrieving the team list:"
   ]
  },
  {
   "cell_type": "code",
   "execution_count": null,
   "metadata": {},
   "outputs": [],
   "source": [
    "# get to the All Schedule Entries\n",
    "browser.get(URL_MODULE)"
   ]
  },
  {
   "cell_type": "code",
   "execution_count": null,
   "metadata": {},
   "outputs": [],
   "source": [
    "report_elements(browser, r\"//*[@class='v-list-item__title']\")"
   ]
  },
  {
   "cell_type": "markdown",
   "metadata": {},
   "source": [
    "### 1. Go to the team schedule and edit"
   ]
  },
  {
   "cell_type": "markdown",
   "metadata": {},
   "source": [
    "First enter into the team schedule:"
   ]
  },
  {
   "cell_type": "code",
   "execution_count": null,
   "metadata": {},
   "outputs": [],
   "source": [
    "# the team number you want to edit\n",
    "TEAM_NO = 0\n",
    "\n",
    "# get the button of all the training schedules in the screen (listed with names \"U08 Mixed Gold Training\")\n",
    "buttons = browser.find_elements(By.XPATH, r\"//*[@class='v-list-item__title']\")\n",
    "\n",
    "access_group = buttons[TEAM_NO].text\n",
    "buttons[TEAM_NO].click()\n",
    "print(\"Team to edit:\" , access_group)"
   ]
  },
  {
   "cell_type": "markdown",
   "metadata": {},
   "source": [
    "Next click the three dot options top right and then EDIT:"
   ]
  },
  {
   "cell_type": "code",
   "execution_count": null,
   "metadata": {},
   "outputs": [],
   "source": [
    "# click options three dots button (top-right)\n",
    "buttons = browser.find_elements(By.XPATH, '//*[contains(text(), \"more_vert\")]')\n",
    "buttons[0].click()\n",
    "\n",
    "# now EDIT!\n",
    "buttons = browser.find_elements(By.XPATH, \"//*[contains(text(),'Edit') and @class='v-list-item__title']\")\n",
    "# report_elements(browser, \"//*[contains(text(),'Edit')]\")\n",
    "buttons[0].click()"
   ]
  },
  {
   "cell_type": "code",
   "execution_count": null,
   "metadata": {},
   "outputs": [],
   "source": [
    "# scroll-down to the bottom of page\n",
    "browser.execute_script(\"window.scrollTo(0, document.body.scrollHeight)\")"
   ]
  },
  {
   "cell_type": "markdown",
   "metadata": {},
   "source": [
    "### 2. Now edit the open schedule to recurr\n",
    "\n",
    "Now we edit the schedule to recurr."
   ]
  },
  {
   "cell_type": "code",
   "execution_count": null,
   "metadata": {},
   "outputs": [],
   "source": [
    "# select Access Group option\n",
    "buttons = browser.find_elements(By.XPATH, \"//*[contains(text(),'Access Groups')]\")\n",
    "buttons[0].click()\n",
    "\n",
    "report_elements(browser, \"//*[contains(text(),'Access Groups')]\")\n"
   ]
  },
  {
   "cell_type": "markdown",
   "metadata": {},
   "source": [
    "Select the correct access group for the team:"
   ]
  },
  {
   "cell_type": "code",
   "execution_count": null,
   "metadata": {},
   "outputs": [],
   "source": [
    "# click arrow to show all dropbox\n",
    "buttons = browser.find_elements(By.XPATH, \"//i[contains(@class, 'mdi-menu-down')]\")\n",
    "buttons[0].click()\n",
    "\n",
    "# delete all that is there already and enter the access group team name string to filter\n",
    "buttons = browser.find_elements(By.XPATH, \"//input[@name = 'team[access_level_ids_csv]']\")\n",
    "buttons[0].send_keys(Keys.BACKSPACE * 2)\n",
    "buttons[0].send_keys(access_group)\n",
    "\n",
    "# click the access group\n",
    "buttons = browser.find_elements(By.XPATH, f\"//span[contains(text(), '{access_group}')]\")\n",
    "buttons[0].click()"
   ]
  },
  {
   "cell_type": "markdown",
   "metadata": {},
   "source": [
    "### 3. Save changes"
   ]
  },
  {
   "cell_type": "code",
   "execution_count": null,
   "metadata": {},
   "outputs": [],
   "source": [
    "# click SAVE button\n",
    "buttons = browser.find_elements(By.XPATH, \"//*[contains(text(), 'Save') and contains(@class, 'v-btn__content')]\")\n",
    "buttons[0].click()"
   ]
  },
  {
   "cell_type": "code",
   "execution_count": null,
   "metadata": {},
   "outputs": [],
   "source": [
    "# click Ok button\n",
    "buttons = browser.find_elements(By.XPATH, \"//*[contains(text(), 'Ok') and contains(@class, 'v-btn__content')]\")\n",
    "buttons[0].click()"
   ]
  },
  {
   "cell_type": "markdown",
   "metadata": {},
   "source": [
    "Calendar should come now. We need to navigate to the month and then select the day."
   ]
  },
  {
   "cell_type": "markdown",
   "metadata": {},
   "source": [
    "# Bulk edit teams to restrict access groups"
   ]
  },
  {
   "cell_type": "markdown",
   "metadata": {},
   "source": [
    "First initialize the schedule full page you want to process. There may be many pages to go through.. :-)"
   ]
  },
  {
   "cell_type": "code",
   "execution_count": null,
   "metadata": {},
   "outputs": [],
   "source": [
    "URL_MODULE = f\"{URL_TEAMAPP}/teams?_list=v1\""
   ]
  },
  {
   "cell_type": "code",
   "execution_count": null,
   "metadata": {},
   "outputs": [],
   "source": [
    "# get to the All Schedule Entries\n",
    "browser.get(URL_MODULE)\n",
    "NO_TEAMS = len(browser.find_elements(By.XPATH, r\"//*[@class='v-list-item__title']\"))\n",
    "\n",
    "print(\"Number of teams to update (in page):\", NO_TEAMS)\n",
    "\n",
    "for i in range(10,NO_TEAMS):\n",
    "    browser.get(URL_MODULE)\n",
    "\n",
    "    time.sleep(3)\n",
    "\n",
    "    # get the button of all the training schedules in the screen (listed with names \"U08 Mixed Gold Training\")\n",
    "    buttons = browser.find_elements(By.XPATH, r\"//*[@class='v-list-item__title']\")\n",
    "\n",
    "    access_group = buttons[i].text\n",
    "    print(f\"Team to edit {i}:\" , access_group)\n",
    "    buttons[i].click()\n",
    "\n",
    "    time.sleep(2)\n",
    "\n",
    "    # click options three dots button (top-right)\n",
    "    buttons = browser.find_elements(By.XPATH, '//*[contains(text(), \"more_vert\")]')\n",
    "    buttons[0].click()\n",
    "\n",
    "    # now EDIT!\n",
    "    buttons = browser.find_elements(By.XPATH, \"//*[contains(text(),'Edit') and @class='v-list-item__title']\")\n",
    "    # report_elements(browser, \"//*[contains(text(),'Edit')]\")\n",
    "    buttons[0].click()\n",
    "\n",
    "    # scroll-down to the bottom of page\n",
    "    browser.execute_script(\"window.scrollTo(0, document.body.scrollHeight + 100)\")\n",
    "\n",
    "    time.sleep(1)\n",
    "    # select Access Group option\n",
    "    buttons = browser.find_elements(By.XPATH, \"//*[contains(text(),'Access Groups')]\")\n",
    "    buttons[0].click()\n",
    "\n",
    "\n",
    "    time.sleep(1)\n",
    "    # click arrow to show all dropbox\n",
    "    buttons = browser.find_elements(By.XPATH, \"//i[contains(@class, 'mdi-menu-down')]\")\n",
    "    buttons[0].click()\n",
    "\n",
    "    # delete all that is there already and enter the access group team name string to filter\n",
    "    buttons = browser.find_elements(By.XPATH, \"//input[@name = 'team[access_level_ids_csv]']\")\n",
    "    buttons[0].send_keys(Keys.BACKSPACE * 2)\n",
    "    buttons[0].send_keys(access_group)\n",
    "\n",
    "    # click the access group\n",
    "    buttons = browser.find_elements(By.XPATH, f\"//span[contains(text(), '{access_group}')]\")\n",
    "    buttons[0].click()\n",
    "\n",
    "    # click SAVE button\n",
    "    buttons = browser.find_elements(By.XPATH, \"//*[contains(text(), 'Save') and contains(@class, 'v-btn__content')]\")\n",
    "    buttons[0].click()\n",
    "\n",
    "    time.sleep(1)\n",
    "    # click Ok button\n",
    "    buttons = browser.find_elements(By.XPATH, \"//*[contains(text(), 'Ok') and contains(@class, 'v-btn__content')]\")\n",
    "    buttons[0].click()\n",
    "\n",
    "    print(\"\\t Team saved!\", access_group)\n",
    "\n",
    "    # wait 3 seconds for next schedule\n",
    "    time.sleep(2)\n"
   ]
  }
 ],
 "metadata": {
  "kernelspec": {
   "display_name": "Python 3",
   "language": "python",
   "name": "python3"
  },
  "language_info": {
   "codemirror_mode": {
    "name": "ipython",
    "version": 3
   },
   "file_extension": ".py",
   "mimetype": "text/x-python",
   "name": "python",
   "nbconvert_exporter": "python",
   "pygments_lexer": "ipython3",
   "version": "3.10.12"
  }
 },
 "nbformat": 4,
 "nbformat_minor": 2
}
